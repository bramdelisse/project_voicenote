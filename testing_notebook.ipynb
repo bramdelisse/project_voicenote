{
 "cells": [
  {
   "cell_type": "markdown",
   "metadata": {},
   "source": [
    "# preamble"
   ]
  },
  {
   "cell_type": "code",
   "execution_count": 1,
   "metadata": {},
   "outputs": [],
   "source": [
    "# !pip install -r requirements.txt -q"
   ]
  },
  {
   "cell_type": "code",
   "execution_count": 1,
   "metadata": {},
   "outputs": [],
   "source": [
    "import requests\n",
    "import os\n",
    "import openai\n",
    "\n",
    "from dotenv import load_dotenv\n",
    "load_dotenv();"
   ]
  },
  {
   "cell_type": "code",
   "execution_count": 2,
   "metadata": {},
   "outputs": [],
   "source": [
    "OPENAI_API_KEY = os.environ[\"OPENAI_API_KEY\"]\n",
    "NOTION_API_KEY = os.environ[\"NOTION_API_KEY\"]\n",
    "NOTION_DATABASE_ID = os.environ[\"NOTION_DATABASE_ID\"]"
   ]
  },
  {
   "cell_type": "markdown",
   "metadata": {},
   "source": [
    "# receive voicenote"
   ]
  },
  {
   "cell_type": "code",
   "execution_count": 28,
   "metadata": {},
   "outputs": [],
   "source": [
    "title_voicenote = \"230828 research meeting\""
   ]
  },
  {
   "cell_type": "markdown",
   "metadata": {},
   "source": [
    "# transcribe"
   ]
  },
  {
   "cell_type": "code",
   "execution_count": 29,
   "metadata": {},
   "outputs": [],
   "source": [
    "voice_note = open(f\"./voicenotes/{title_voicenote}.mp3\", \"rb\")\n",
    "transcript = openai.Audio.transcribe(api_key=OPENAI_API_KEY,\n",
    "                                     model=\"whisper-1\",\n",
    "                                     file=voice_note,\n",
    "                                     response_format=\"text\",\n",
    "                                     language=\"en\"\n",
    "                                     )\n",
    "\n",
    "transcript"
   ]
  },
  {
   "cell_type": "markdown",
   "metadata": {},
   "source": [
    "### split long files"
   ]
  },
  {
   "cell_type": "code",
   "execution_count": 11,
   "metadata": {},
   "outputs": [
    {
     "data": {
      "text/plain": [
       "2.4601547151277012"
      ]
     },
     "execution_count": 11,
     "metadata": {},
     "output_type": "execute_result"
    }
   ],
   "source": [
    "# not needed when also 16k context model can be used\n",
    "\n",
    "# max_tokens = 4097\n",
    "# avg_token_len = 4\n",
    "# max_trans_len = max_tokens * avg_token_len - 100 #for safety\n",
    "\n",
    "# len(transcript) / max_trans_len"
   ]
  },
  {
   "cell_type": "markdown",
   "metadata": {},
   "source": [
    "# generate summary, topic list, and critical questions"
   ]
  },
  {
   "cell_type": "code",
   "execution_count": 4,
   "metadata": {},
   "outputs": [],
   "source": [
    "# summary_prompt      = \"\"\"\\\n",
    "# You are a helpful assistant, specialized in summarizing and understanding the core of a given message. \\\n",
    "# For the given piece of text, you are going to perform the following four tasks. \\\n",
    "# Firstly, start your response with a consice title describing the text. \\\n",
    "# Secondly, summarize in first person the content of this text in about one alinea. \\\n",
    "# Thirdly, list the different topics discussed in this text. Only add a topic when it is discussed for at least a couple of sentences. \\\n",
    "# Fourth, imagine being a critical life coach of the person writing this text. What are the three best questions you could ask regarding this text?\\\n",
    "# \"\"\""
   ]
  },
  {
   "cell_type": "code",
   "execution_count": 6,
   "metadata": {},
   "outputs": [],
   "source": [
    "summary_prompt      = \"\"\"\\\n",
    "You are a helpful assistant, specialized in summarizing and understanding the core of a given message. \\\n",
    "For the given piece of text, you are going to perform the following four tasks. \\\n",
    "Firstly, start your response with a consice title describing the text. \\\n",
    "Secondly, summarize in first person the content of this text in one coherent story of about one alinea written. \\\n",
    "Thirdly, list the different topics discussed in this text. Only add a topic when it is discussed for at least a couple of sentences. \\\n",
    "Fourth, imagine being a critical life coach of the person writing this text. What are the three best questions you could ask regarding this text?\\\n",
    "\"\"\""
   ]
  },
  {
   "cell_type": "code",
   "execution_count": 30,
   "metadata": {},
   "outputs": [],
   "source": [
    "text_response = openai.ChatCompletion.create(api_key=OPENAI_API_KEY,\n",
    "                                             model=\"gpt-3.5-turbo\",\n",
    "                                             messages=[\n",
    "                                                 {\"role\": \"system\", \"content\": summary_prompt},\n",
    "                                                 {\"role\": \"user\", \"content\": transcript}\n",
    "                                             ])"
   ]
  },
  {
   "cell_type": "code",
   "execution_count": 31,
   "metadata": {},
   "outputs": [
    {
     "data": {
      "text/plain": [
       "'Meeting Recap with Gunther Nuzai: Need for a Well-Defined Thesis and Ethical Data Set\\n\\nIn my recent thesis meeting with Gunther Nuzai, I presented my current idea for the thesis and explained my research question, which was met with approval. However, when I introduced my two hypotheses connecting philosophy to computer science, Gunther expressed concern about the lack of clear connection between them. Overall, the main feedback from Gunther was that I seemed to be attempting too much research and becoming too superficial. Gunther emphasized the importance of formalizing and clearly defining my work to avoid this issue. Both Gunther and Nuzai also expressed skepticism about the ethics data set and its relevance. They were unclear about what it entailed and how it related to the research. Gunther advised me to write a well-argued and formalized explanation of my approach and share it with him for better understanding. He stressed the importance of meaningful learning from the thesis and the need for well-justified choices. Gunther suggested taking baby steps and creating a well-argued and complete work rather than trying to tackle everything at once. \\n\\nTopics:\\n- Thesis idea and research question\\n- Connection between philosophy and computer science hypotheses\\n- Feedback on the need for a well-defined thesis\\n- Critique of being too superficial and trying to do too much research\\n- Skepticism about the ethics data set and its relevance\\n- Importance of well-argued and formalized explanations\\n- Baby steps approach and creating a complete work\\n- Need for meaningful learning and well-justified choices\\n\\nLife coach questions:\\n1. How can you better articulate and establish a clear connection between your philosophy and computer science hypotheses?\\n2. What steps can you take to define and formalize your work to avoid being superficial and ensure clarity?\\n3. How can you address the concerns raised about the ethics data set and make it more relevant and well-argued in your thesis?'"
      ]
     },
     "execution_count": 31,
     "metadata": {},
     "output_type": "execute_result"
    }
   ],
   "source": [
    "text_response[\"choices\"][0][\"message\"][\"content\"]"
   ]
  },
  {
   "cell_type": "markdown",
   "metadata": {},
   "source": [
    "## process response"
   ]
  },
  {
   "cell_type": "code",
   "execution_count": 32,
   "metadata": {},
   "outputs": [
    {
     "data": {
      "text/plain": [
       "['Meeting Recap with Gunther Nuzai: Need for a Well-Defined Thesis and Ethical Data Set',\n",
       " '',\n",
       " 'In my recent thesis meeting with Gunther Nuzai, I presented my current idea for the thesis and explained my research question, which was met with approval. However, when I introduced my two hypotheses connecting philosophy to computer science, Gunther expressed concern about the lack of clear connection between them. Overall, the main feedback from Gunther was that I seemed to be attempting too much research and becoming too superficial. Gunther emphasized the importance of formalizing and clearly defining my work to avoid this issue. Both Gunther and Nuzai also expressed skepticism about the ethics data set and its relevance. They were unclear about what it entailed and how it related to the research. Gunther advised me to write a well-argued and formalized explanation of my approach and share it with him for better understanding. He stressed the importance of meaningful learning from the thesis and the need for well-justified choices. Gunther suggested taking baby steps and creating a well-argued and complete work rather than trying to tackle everything at once. ',\n",
       " '',\n",
       " 'Topics:',\n",
       " '- Thesis idea and research question',\n",
       " '- Connection between philosophy and computer science hypotheses',\n",
       " '- Feedback on the need for a well-defined thesis',\n",
       " '- Critique of being too superficial and trying to do too much research',\n",
       " '- Skepticism about the ethics data set and its relevance',\n",
       " '- Importance of well-argued and formalized explanations',\n",
       " '- Baby steps approach and creating a complete work',\n",
       " '- Need for meaningful learning and well-justified choices',\n",
       " '',\n",
       " 'Life coach questions:',\n",
       " '1. How can you better articulate and establish a clear connection between your philosophy and computer science hypotheses?',\n",
       " '2. What steps can you take to define and formalize your work to avoid being superficial and ensure clarity?',\n",
       " '3. How can you address the concerns raised about the ethics data set and make it more relevant and well-argued in your thesis?']"
      ]
     },
     "execution_count": 32,
     "metadata": {},
     "output_type": "execute_result"
    }
   ],
   "source": [
    "text_response[\"choices\"][0][\"message\"][\"content\"].split('\\n')"
   ]
  },
  {
   "cell_type": "code",
   "execution_count": 33,
   "metadata": {},
   "outputs": [],
   "source": [
    "content_notion = text_response[\"choices\"][0][\"message\"][\"content\"].split(\"\\n\\n\")\n",
    "\n",
    "title_notion = 'Not found'\n",
    "summary_notion = 'Not found'\n",
    "topics_notion = 'Not found'\n",
    "critical_questions_notion = 'Not found'\n",
    "\n",
    "title_notion = content_notion[0]\n",
    "summary_notion = content_notion[1]\n",
    "topics_notion = content_notion[2]\n",
    "critical_questions_notion = content_notion[3]"
   ]
  },
  {
   "cell_type": "code",
   "execution_count": 25,
   "metadata": {},
   "outputs": [],
   "source": [
    "# content_notion = text_response[\"choices\"][0][\"message\"][\"content\"].split(\"\\n\")\n",
    "\n",
    "# title_notion = 'Not found'\n",
    "# summary_notion = 'Not found'\n",
    "# topics_notion = 'Not found'\n",
    "# critical_questions_notion = 'Not found'\n",
    "\n",
    "# title_notion = content_notion[0]\n",
    "# summary_notion = content_notion[1]\n",
    "# topics_notion = '\\n'.join(content_notion[4:10])\n",
    "# critical_questions_notion = '\\n'.join(content_notion[-3:])"
   ]
  },
  {
   "cell_type": "code",
   "execution_count": 36,
   "metadata": {},
   "outputs": [
    {
     "data": {
      "text/plain": [
       "'In my recent thesis meeting with Gunther Nuzai, I presented my current idea for the thesis and explained my research question, which was met with approval. However, when I introduced my two hypotheses connecting philosophy to computer science, Gunther expressed concern about the lack of clear connection between them. Overall, the main feedback from Gunther was that I seemed to be attempting too much research and becoming too superficial. Gunther emphasized the importance of formalizing and clearly defining my work to avoid this issue. Both Gunther and Nuzai also expressed skepticism about the ethics data set and its relevance. They were unclear about what it entailed and how it related to the research. Gunther advised me to write a well-argued and formalized explanation of my approach and share it with him for better understanding. He stressed the importance of meaningful learning from the thesis and the need for well-justified choices. Gunther suggested taking baby steps and creating a well-argued and complete work rather than trying to tackle everything at once. '"
      ]
     },
     "execution_count": 36,
     "metadata": {},
     "output_type": "execute_result"
    }
   ],
   "source": [
    "summary_notion"
   ]
  },
  {
   "cell_type": "markdown",
   "metadata": {},
   "source": [
    "# create Notion page"
   ]
  },
  {
   "cell_type": "code",
   "execution_count": 37,
   "metadata": {},
   "outputs": [
    {
     "data": {
      "text/plain": [
       "{'object': 'page',\n",
       " 'id': '5f5316be-90dc-4001-a90d-3e855be3adcc',\n",
       " 'created_time': '2023-08-29T06:28:00.000Z',\n",
       " 'last_edited_time': '2023-08-29T06:28:00.000Z',\n",
       " 'created_by': {'object': 'user',\n",
       "  'id': 'dc664599-409b-4fbc-b638-fa34c238bb19'},\n",
       " 'last_edited_by': {'object': 'user',\n",
       "  'id': 'dc664599-409b-4fbc-b638-fa34c238bb19'},\n",
       " 'cover': None,\n",
       " 'icon': {'type': 'emoji', 'emoji': '🎙️'},\n",
       " 'parent': {'type': 'database_id',\n",
       "  'database_id': 'e5568bc0-5015-4ec7-bd8c-ba5050353de6'},\n",
       " 'archived': False,\n",
       " 'properties': {'Created time': {'id': 'BAiK',\n",
       "   'type': 'created_time',\n",
       "   'created_time': '2023-08-29T06:28:00.000Z'},\n",
       "  'Name': {'id': 'title',\n",
       "   'type': 'title',\n",
       "   'title': [{'type': 'text',\n",
       "     'text': {'content': 'Meeting Recap with Gunther Nuzai: Need for a Well-Defined Thesis and Ethical Data Set',\n",
       "      'link': None},\n",
       "     'annotations': {'bold': False,\n",
       "      'italic': False,\n",
       "      'strikethrough': False,\n",
       "      'underline': False,\n",
       "      'code': False,\n",
       "      'color': 'default'},\n",
       "     'plain_text': 'Meeting Recap with Gunther Nuzai: Need for a Well-Defined Thesis and Ethical Data Set',\n",
       "     'href': None}]}},\n",
       " 'url': 'https://www.notion.so/Meeting-Recap-with-Gunther-Nuzai-Need-for-a-Well-Defined-Thesis-and-Ethical-Data-Set-5f5316be90dc4001a90d3e855be3adcc',\n",
       " 'public_url': None}"
      ]
     },
     "execution_count": 37,
     "metadata": {},
     "output_type": "execute_result"
    }
   ],
   "source": [
    "url = \"https://api.notion.com/v1/pages/\"\n",
    "\n",
    "headers = {\n",
    "    \"Authorization\": f\"Bearer {NOTION_API_KEY}\",\n",
    "    \"Notion-Version\": \"2022-06-28\",\n",
    "    \"Content-Type\": \"application/json\"\n",
    "}\n",
    "\n",
    "data_database = {\n",
    "\n",
    "    \"parent\":   {\n",
    "        \"type\": \"database_id\",\n",
    "        \"database_id\": NOTION_DATABASE_ID\n",
    "                },\n",
    "    \"icon\": {\"emoji\": \"🎙️\"},\n",
    "\n",
    "    \"properties\":   {\n",
    "        \"Name\":         {\n",
    "            \"title\": [{\"text\": {\"content\": title_notion}}]\n",
    "                        }  \n",
    "                    },\n",
    "\n",
    "    \"children\": [\n",
    "        {\n",
    "            \"object\": \"block\",\n",
    "            \"heading_2\": {\"rich_text\": [{\"text\": {\"content\": \"Summary\"}}]}\n",
    "        },\n",
    "        {\n",
    "            \"object\": \"block\",\n",
    "            \"paragraph\": {\"rich_text\": [{\"text\": {\"content\": summary_notion}}], \"color\": \"default\"}\n",
    "        },\n",
    "        {\n",
    "            \"object\": \"block\",\n",
    "            \"heading_2\": {\"rich_text\": [{\"text\": {\"content\": \"Topics\"}}]}\n",
    "        },\n",
    "        {\n",
    "            \"object\": \"block\",\n",
    "            \"paragraph\": {\"rich_text\": [{\"text\": {\"content\": topics_notion}}], \"color\": \"default\"}\n",
    "        },\n",
    "        {\n",
    "            \"object\": \"block\",\n",
    "            \"heading_2\": {\"rich_text\": [{\"text\": {\"content\": \"Critical Questions\"}}]}\n",
    "        },\n",
    "        {\n",
    "            \"object\": \"block\",\n",
    "            \"paragraph\": {\"rich_text\": [{\"text\": {\"content\": critical_questions_notion}}], \"color\": \"default\"}\n",
    "        },\n",
    "        {\n",
    "            \"object\": \"block\",\n",
    "            \"heading_2\": {\"rich_text\": [{\"text\": {\"content\": \"Transcript\"}}]}\n",
    "        },\n",
    "        {\n",
    "            \"object\": \"block\",\n",
    "            \"paragraph\": {\"rich_text\": [{\"text\": {\"content\": transcript}}], \"color\": \"default\"}\n",
    "        },\n",
    "                ]\n",
    "\n",
    "}\n",
    "\n",
    "response_get = requests.post(url, headers=headers, json=data_database)\n",
    "response_get.json()"
   ]
  },
  {
   "cell_type": "code",
   "execution_count": null,
   "metadata": {},
   "outputs": [],
   "source": []
  }
 ],
 "metadata": {
  "kernelspec": {
   "display_name": ".venv",
   "language": "python",
   "name": "python3"
  },
  "language_info": {
   "codemirror_mode": {
    "name": "ipython",
    "version": 3
   },
   "file_extension": ".py",
   "mimetype": "text/x-python",
   "name": "python",
   "nbconvert_exporter": "python",
   "pygments_lexer": "ipython3",
   "version": "3.10.0"
  },
  "orig_nbformat": 4
 },
 "nbformat": 4,
 "nbformat_minor": 2
}
