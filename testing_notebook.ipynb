{
 "cells": [
  {
   "cell_type": "markdown",
   "metadata": {},
   "source": [
    "# preamble"
   ]
  },
  {
   "cell_type": "code",
   "execution_count": 7,
   "metadata": {},
   "outputs": [],
   "source": [
    "########## PREAMBLE ###########################################################\n",
    "\n",
    "# general imports\n",
    "import openai\n",
    "import os\n",
    "import requests\n",
    "import json\n",
    "\n",
    "# import scripts\n",
    "from scripts import transcribe, process_transcript, check_response, prepare_yield_NOTION\n",
    "from prompts import prompts\n",
    "\n",
    "# declaring secrets\n",
    "from dotenv import load_dotenv\n",
    "load_dotenv()\n",
    "OPENAI_API_KEY = os.environ[\"OPENAI_API_KEY\"]\n",
    "NOTION_API_KEY = os.environ[\"NOTION_API_KEY\"]\n",
    "NOTION_DATABASE_ID = os.environ[\"NOTION_DATABASE_ID\"]\n",
    "\n",
    "# declaring static variables\n",
    "MAX_WHISPER_AUDIO_SIZE = 26262828\n",
    "\n",
    "MAX_CONTEXT_4K = 4097\n",
    "MAX_CONTEXT_16K = 4097 * 4\n",
    "\n",
    "MAX_BLOCK_SIZE = 2000\n",
    "\n",
    "# declaring dynamic variables\n",
    "AUDIO_FILE_PATH = \"./to_process/230922-AI_interview-Don.mp3\"\n",
    "THOUGHT = \"interview_english\""
   ]
  },
  {
   "cell_type": "code",
   "execution_count": 8,
   "metadata": {},
   "outputs": [
    {
     "name": "stdout",
     "output_type": "stream",
     "text": [
      "daily_reflection\n",
      "shower\n",
      "blog\n",
      "interview_nederlands\n",
      "interview_english\n"
     ]
    }
   ],
   "source": [
    "# print all Thought options\n",
    "for thought in prompts:\n",
    "    print(thought)"
   ]
  },
  {
   "cell_type": "markdown",
   "metadata": {},
   "source": [
    "# thought processing"
   ]
  },
  {
   "cell_type": "markdown",
   "metadata": {},
   "source": [
    "### transcription"
   ]
  },
  {
   "cell_type": "code",
   "execution_count": 18,
   "metadata": {},
   "outputs": [
    {
     "name": "stdout",
     "output_type": "stream",
     "text": [
      "Transcription started.\n",
      "Transcription finished!\n"
     ]
    }
   ],
   "source": [
    "print(\"Transcription started.\")\n",
    "transcript = transcribe(THOUGHT, AUDIO_FILE_PATH) # also deals with long audio files\n",
    "print(\"Transcription finished!\")"
   ]
  },
  {
   "cell_type": "code",
   "execution_count": 19,
   "metadata": {},
   "outputs": [
    {
     "data": {
      "text/plain": [
       "\"It still works well with cars and wind and such. But okay, so I'm working on a project regarding AI. I can tell you more about it after the conversation. But I would like to know more about how people feel about AI and what it means to them. So I'm not looking for any specific answers. So just feel free to talk and say whatever comes to your mind. But just as a leading question, do you have a definition of AI for yourself? And how do you feel about it? Good question. I view AI really from the machine learning perspective. So to me it's basically, as also with the physicist background, it's like a fancy multi-parameter fitting. So basically you give it a lot of options, you train it, and then it will find a good solution. But it also seems to me really like a black box. I think that also holds true for most people, that they most of the times don't really know what it's doing. And it works, so that's nice. You can prove that it works, so it's not really a problem. But what really happens inside with all the nodes and all the parameters, it's a bit of a black box. And I also think it's a bit overused in the past months. I think for a lot of things you don't need AI. And you can get away with a simpler model for whatever. And I think you should really appreciate it. But I also think it's cool what it can do at the moment. For example with the chat GPT, super convenient, very powerful. I'm also getting a lot of videos from these AI-based Photoshop things. And that's really insane, the art generation and the music generation. And it does amaze me. It does amaze you. Do you use it? I use chat GPT. Mostly for chores. I have to submit a lot of abstracts about the same thing. And I've written about my work now ten times or something. And I just use the same words, because they're my words. And then you have to submit it in a different way. So I just ask it to basically put the same, but in slightly different words. And it just helps me to not spend half an hour on half A4 text. Yeah, okay. So you use the generative models. Do you follow news about AI? I see articles in the papers. Most of the time it's either explaining what it can do or people are afraid of what it can do. So that's kind of funny. But I have to say I'm not super afraid of AI. I think ultimately it's... I mean, it seems very powerful, but computers always are. They're a bit stupid. If you don't tell them exactly what to do, they won't do it. So it's not like a chat GPT AI will suddenly take over the world and start thinking of its own. There's always boundaries. Do you think any special regulation is needed for this kind of technology? I'm not sure. I think it depends on the application. I can see copyright problems or something for art and music. For legal stuff, I really don't know. I would imagine yes, because for everything that's used widely, you need some kind of regulation. So for example with the generative models and copyright, I think those are pretty difficult questions. In the sense that there's not really a right or wrong. It kind of depends on how people feel about it. For example, if you ask a generative model, please create an image of a CEO. What should it do? Should it create an old white man? Because that's the average. Or should it be overly inclusive and try to steer opinions of people? A question I have is how to deal with those types of questions. That makes sense. Maybe this also touches on what they did in our tech system, where they used a similar system to profile people. And that went a bit south. But I really don't know how much they put in there and how much just arose from the model itself. Because it could be true, there's a certain bias. It either comes from the people or it comes from the fact that it's actually true. It's probably a bias from the people as well. A painful reality bias. I like that. I like that. Okay, I did. Do you think the average citizen should have any vote in the future of AI? The legal stuff around it or the regulations around it? I think you always have, right? Just through regular politics. You can vote for people that do something with it. And you always have a vote, of course, through your actions. If you use it heavily, then you also sort of promote it. Okay, I think this helps me a lot. Do you have any final remarks or any questions to me? Remarks on AI? No. No? Thank you very much for your time then. And then that's it for now.\\n\""
      ]
     },
     "execution_count": 19,
     "metadata": {},
     "output_type": "execute_result"
    }
   ],
   "source": [
    "transcript"
   ]
  },
  {
   "cell_type": "markdown",
   "metadata": {},
   "source": [
    "### transcript processing"
   ]
  },
  {
   "cell_type": "code",
   "execution_count": 20,
   "metadata": {},
   "outputs": [
    {
     "name": "stdout",
     "output_type": "stream",
     "text": [
      "Text processing started.\n",
      "Text processing succes!\n"
     ]
    }
   ],
   "source": [
    "print(\"Text processing started.\")\n",
    "text_response = process_transcript(THOUGHT, transcript)\n",
    "print(\"Text processing succes!\")"
   ]
  },
  {
   "cell_type": "code",
   "execution_count": 21,
   "metadata": {},
   "outputs": [
    {
     "name": "stdout",
     "output_type": "stream",
     "text": [
      "<class 'str'>\n"
     ]
    },
    {
     "data": {
      "text/plain": [
       "'{\"title\": \"Opinions on AI and Its Impact\", \"summary\": \"The interviewee views AI as a black box and thinks it is overused in many cases. They appreciate its capabilities and are amazed by its applications in chat GPT, art generation, and music generation. The interviewee uses chat GPT for tasks like writing abstracts. They are not super afraid of AI and believe that computers are limited by boundaries. The need for special regulations depends on the application. They mention copyright issues in art and music and discuss the challenge of generative models creating biased content. The interviewee mentions the potential bias in profiling people with AI. They believe that citizens can influence the future of AI through regular politics and by their actions.\", \"opinion on AI\": \"The interviewee views AI as a black box and thinks it is overused in many cases.\", \"ideas\": [\"AI as a fancy multi-parameter fitting\", \"AI as a black box\", \"Overuse of AI\", \"Appreciation for AI\\'s capabilities\", \"Applications of AI in chat GPT, art generation, and music generation\", \"Use of chat GPT for writing abstracts\", \"Lack of fear towards AI\", \"Computers being limited by boundaries\", \"Need for regulations depending on the application\", \"Copyright issues in art and music\", \"Challenge of generative models creating biased content\", \"Potential bias in profiling people with AI\", \"Citizens influencing the future of AI\"], \"topics\": [\"AI\", \"black box\", \"multi-parameter fitting\", \"overuse of AI\", \"chat GPT\", \"art generation\", \"music generation\", \"writing abstracts\", \"fear of AI\", \"computers\", \"regulations\", \"copyright issues\", \"generative models\", \"bias\", \"profiling people\"]}'"
      ]
     },
     "execution_count": 21,
     "metadata": {},
     "output_type": "execute_result"
    }
   ],
   "source": [
    "print(type(text_response[\"choices\"][0][\"message\"][\"content\"]))\n",
    "text_response[\"choices\"][0][\"message\"][\"content\"]"
   ]
  },
  {
   "cell_type": "markdown",
   "metadata": {},
   "source": [
    "### check data Notion"
   ]
  },
  {
   "cell_type": "code",
   "execution_count": 33,
   "metadata": {},
   "outputs": [
    {
     "data": {
      "text/plain": [
       "{'title': 'Opinions on AI and Its Impact',\n",
       " 'summary': 'The interviewee views AI as a black box and thinks it is overused in many cases. They appreciate its capabilities and are amazed by its applications in chat GPT, art generation, and music generation. The interviewee uses chat GPT for tasks like writing abstracts. They are not super afraid of AI and believe that computers are limited by boundaries. The need for special regulations depends on the application. They mention copyright issues in art and music and discuss the challenge of generative models creating biased content. The interviewee mentions the potential bias in profiling people with AI. They believe that citizens can influence the future of AI through regular politics and by their actions.',\n",
       " 'opinion on AI': 'The interviewee views AI as a black box and thinks it is overused in many cases.',\n",
       " 'ideas': \"- AI as a fancy multi-parameter fitting\\n- AI as a black box\\n- Overuse of AI\\n- Appreciation for AI's capabilities\\n- Applications of AI in chat GPT, art generation, and music generation\\n- Use of chat GPT for writing abstracts\\n- Lack of fear towards AI\\n- Computers being limited by boundaries\\n- Need for regulations depending on the application\\n- Copyright issues in art and music\\n- Challenge of generative models creating biased content\\n- Potential bias in profiling people with AI\\n- Citizens influencing the future of AI\\n\",\n",
       " 'topics': '- AI\\n- black box\\n- multi-parameter fitting\\n- overuse of AI\\n- chat GPT\\n- art generation\\n- music generation\\n- writing abstracts\\n- fear of AI\\n- computers\\n- regulations\\n- copyright issues\\n- generative models\\n- bias\\n- profiling people\\n'}"
      ]
     },
     "execution_count": 33,
     "metadata": {},
     "output_type": "execute_result"
    }
   ],
   "source": [
    "content_notion = check_response(text_response)\n",
    "content_notion"
   ]
  },
  {
   "cell_type": "code",
   "execution_count": 32,
   "metadata": {},
   "outputs": [
    {
     "data": {
      "text/plain": [
       "['title', 'summary', 'opinion on AI', 'ideas', 'topics']"
      ]
     },
     "execution_count": 32,
     "metadata": {},
     "output_type": "execute_result"
    }
   ],
   "source": [
    "keys = [key for key, content in content_notion.items()]\n",
    "keys"
   ]
  },
  {
   "cell_type": "markdown",
   "metadata": {},
   "source": [
    "### upload to Notion"
   ]
  },
  {
   "cell_type": "code",
   "execution_count": 34,
   "metadata": {},
   "outputs": [
    {
     "name": "stdout",
     "output_type": "stream",
     "text": [
      "Processed text uploading succesful!\n"
     ]
    }
   ],
   "source": [
    "url = \"https://api.notion.com/v1/pages/\"\n",
    "\n",
    "headers =   {\n",
    "    \"Authorization\": f\"Bearer {NOTION_API_KEY}\",\n",
    "    \"Notion-Version\": \"2022-06-28\",\n",
    "    \"Content-Type\": \"application/json\"\n",
    "            }\n",
    "\n",
    "data_database = prepare_yield_NOTION(THOUGHT, NOTION_DATABASE_ID, MAX_BLOCK_SIZE,\n",
    "                                     content_notion, transcript)\n",
    "\n",
    "response_get = requests.post(url, headers=headers, json=data_database)\n",
    "print(\"Processed text uploading succesful!\")"
   ]
  },
  {
   "cell_type": "code",
   "execution_count": 35,
   "metadata": {},
   "outputs": [
    {
     "data": {
      "text/plain": [
       "{'object': 'page',\n",
       " 'id': '0cc1023f-6acf-45d3-ae75-2a7f36674861',\n",
       " 'created_time': '2023-09-23T21:58:00.000Z',\n",
       " 'last_edited_time': '2023-09-23T21:58:00.000Z',\n",
       " 'created_by': {'object': 'user',\n",
       "  'id': 'dc664599-409b-4fbc-b638-fa34c238bb19'},\n",
       " 'last_edited_by': {'object': 'user',\n",
       "  'id': 'dc664599-409b-4fbc-b638-fa34c238bb19'},\n",
       " 'cover': None,\n",
       " 'icon': {'type': 'emoji', 'emoji': '🎙️'},\n",
       " 'parent': {'type': 'database_id',\n",
       "  'database_id': 'e5568bc0-5015-4ec7-bd8c-ba5050353de6'},\n",
       " 'archived': False,\n",
       " 'properties': {'Archive': {'id': '%3Fohe',\n",
       "   'type': 'checkbox',\n",
       "   'checkbox': False},\n",
       "  'Origin': {'id': 'BAiK',\n",
       "   'type': 'created_time',\n",
       "   'created_time': '2023-09-23T21:58:00.000Z'},\n",
       "  'Thought': {'id': 'FIsG',\n",
       "   'type': 'select',\n",
       "   'select': {'id': '43331476-f532-431a-af65-54d7c8f768d1',\n",
       "    'name': 'interview_english',\n",
       "    'color': 'pink'}},\n",
       "  'Public': {'id': 'a~gd', 'type': 'checkbox', 'checkbox': False},\n",
       "  'Name': {'id': 'title',\n",
       "   'type': 'title',\n",
       "   'title': [{'type': 'text',\n",
       "     'text': {'content': 'Opinions on AI and Its Impact', 'link': None},\n",
       "     'annotations': {'bold': False,\n",
       "      'italic': False,\n",
       "      'strikethrough': False,\n",
       "      'underline': False,\n",
       "      'code': False,\n",
       "      'color': 'default'},\n",
       "     'plain_text': 'Opinions on AI and Its Impact',\n",
       "     'href': None}]}},\n",
       " 'url': 'https://www.notion.so/Opinions-on-AI-and-Its-Impact-0cc1023f6acf45d3ae752a7f36674861',\n",
       " 'public_url': None}"
      ]
     },
     "execution_count": 35,
     "metadata": {},
     "output_type": "execute_result"
    }
   ],
   "source": [
    "response_get.json()"
   ]
  },
  {
   "cell_type": "markdown",
   "metadata": {},
   "source": [
    "---"
   ]
  },
  {
   "cell_type": "markdown",
   "metadata": {},
   "source": [
    "# Testing"
   ]
  },
  {
   "cell_type": "code",
   "execution_count": 13,
   "metadata": {},
   "outputs": [],
   "source": [
    "def is_jsonable(x):\n",
    "    try:\n",
    "        json.dumps(x)\n",
    "        return True\n",
    "    except (TypeError, OverflowError):\n",
    "        return False"
   ]
  },
  {
   "cell_type": "code",
   "execution_count": 40,
   "metadata": {},
   "outputs": [
    {
     "name": "stdout",
     "output_type": "stream",
     "text": [
      "True\n",
      "True\n",
      "True\n",
      "True\n"
     ]
    }
   ],
   "source": [
    "for key in data_database:\n",
    "    print(is_jsonable(data_database[key]))"
   ]
  }
 ],
 "metadata": {
  "kernelspec": {
   "display_name": ".venv",
   "language": "python",
   "name": "python3"
  },
  "language_info": {
   "codemirror_mode": {
    "name": "ipython",
    "version": 3
   },
   "file_extension": ".py",
   "mimetype": "text/x-python",
   "name": "python",
   "nbconvert_exporter": "python",
   "pygments_lexer": "ipython3",
   "version": "3.10.0"
  },
  "orig_nbformat": 4
 },
 "nbformat": 4,
 "nbformat_minor": 2
}
