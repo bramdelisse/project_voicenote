{
 "cells": [
  {
   "cell_type": "markdown",
   "metadata": {},
   "source": [
    "# preamble"
   ]
  },
  {
   "cell_type": "code",
   "execution_count": 1,
   "metadata": {},
   "outputs": [],
   "source": [
    "# !pip install -r requirements.txt -q"
   ]
  },
  {
   "cell_type": "code",
   "execution_count": 2,
   "metadata": {},
   "outputs": [],
   "source": [
    "import requests\n",
    "import os\n",
    "import openai\n",
    "\n",
    "from dotenv import load_dotenv\n",
    "load_dotenv();"
   ]
  },
  {
   "cell_type": "code",
   "execution_count": 4,
   "metadata": {},
   "outputs": [],
   "source": [
    "OPENAI_API_KEY = os.environ[\"OPENAI_API_KEY\"]\n",
    "NOTION_API_KEY = os.environ[\"NOTION_API_KEY\"]\n",
    "NOTION_DATABASE_ID = os.environ[\"NOTION_DATABASE_ID\"]"
   ]
  },
  {
   "cell_type": "markdown",
   "metadata": {},
   "source": [
    "# receive voicenote"
   ]
  },
  {
   "cell_type": "code",
   "execution_count": null,
   "metadata": {},
   "outputs": [],
   "source": [
    "# todo"
   ]
  },
  {
   "cell_type": "markdown",
   "metadata": {},
   "source": [
    "# transcribe"
   ]
  },
  {
   "cell_type": "code",
   "execution_count": 3,
   "metadata": {},
   "outputs": [],
   "source": [
    "voice_note = open(\"./voicenotes/signal-2023-08-12-133923.mp3\", \"rb\")\n",
    "transcript = openai.Audio.transcribe(api_key=OPENAI_API_KEY,\n",
    "                                     model=\"whisper-1\",\n",
    "                                     file=voice_note,\n",
    "                                     response_format=\"text\",\n",
    "                                     language=\"en\"\n",
    "                                     )\n",
    "\n",
    "# transcript"
   ]
  },
  {
   "cell_type": "code",
   "execution_count": 21,
   "metadata": {},
   "outputs": [
    {
     "data": {
      "text/plain": [
       "\"And then it's gone. I think it's a bit like what you just said, the creative process falls away. Then you have to ask one question deeper, what do you want with your education? What do you want that diploma to say? What do you want to express? I think you want people to be able to bring innovation. And I think to do that, you first have to get people to do assignments and things, which is an answer to that. I also start with experiments where it is clear how it should go. If you completely rely on things like that, on things that are already known, then those things could also be done with the help of AI. But I think people take less other lessons with them, if you put it like that. It's just difficult. I think in the scenario that you have a person who looks very critically at the output of JCPT, who has sufficient knowledge about the subject, that they can make judgments. And who sometimes does things on their own. Then I think it's fine. But I'm not sure how to do that. But what is the problem of JCPT, that it announces untruths? That it can sometimes put links that are just short-circuited. Yes, not like reality. I think you have to weigh less. I think you first have to be able to do independent things, where that could also be used. But that you don't learn the right lessons, if you use the help of AI. I totally agree with that. I would say that in school... First you learn the tables from your head, and then you use a calculator. So I think it's very logical to learn to write first, and only then unlock tools. And if that's in your Bachelor's, or Master's, or I don't know. But I can imagine that you only learn that later. Who can only be critical towards the output of it, if you've never thought about how to use it yourself? Would JCPT also end up in a loop? If everyone used JCPT? Where does it learn from? Because it learns by itself. No, that's what they add. They have specific patterns in the sentence structure, so they can recognize that this is JCPT, and then it doesn't end up in the feed. If you use the website of yourself, and you literally... I once asked JCPT something, I have it in my own JCPT-checker, from opening my own dump, and it says, oh, it's not written by... I think that question is really fucking important. It's a super interesting question, because... Yes, but why wouldn't people be able to do that? People make... Oh, it's called papers of each other, which they read. People... What makes it so that the AI has a bias, and ends up in a loop, instead of people? People die, and then a new one comes, which has a different thought process? Yeah, a bit less external factors. JCPT is just put on a feedback loop, and people add character to it, or you have more things that can change, that can pull you out of the loop. That's a good point. You have more input. More dimensions. Not just text. If the goal is to be able to innovate, isn't there something to say to master the most modern tools? Yes, certainly, but I think you have to start from the beginning, so that you can... Be critical. Be critical, and know how to build on that. So that you know how to do it independently, and how to build on that. Interesting. If you stick to a name, you still have to be able to do it yourself. Yes, of course. Look at a natural science student, for example. Look at how this person learns. If it's a subject with a lot of parents, will they just pick it up? Some people don't care if they understand it or not. You have to do it yourself. But if all the assignments and projects are meant to challenge yourself, to put it in context, if those things are done with a lot of effort, I think it's worth it. It's a skill set, with which you can do new things. That also goes with feedback. I agree. You can adjust your curriculum. Do you agree? I agree. If you don't do it right, it's worth it. It's said that it becomes too easy. Yes, and you can't make a difference. You don't practice certain things. If you've never worked with a calculator, I see now, of course you see that after your studies, the importance of solving integrals with your hands. Yes. You have to know what you did wrong, and what happens behind the screen. I think that's also, because we solve integrals with our hands, if Mathematica gives an answer, we have a feeling pretty quickly whether it makes sense or not. If you can train that, if you can train people to think for themselves, to have a feeling for the logic, or the arguments, whether it makes sense. Would you like that? Yes, I would like that. Then I think there are possibilities. Yes. Then it's a different story. And at the moment, it's not good enough. I've used it a lot. I have a link. No, you didn't write a thesis. No, I didn't think so. I didn't give it to you. No, but I was like, why is this such a chachabitty? Because I knew it was somewhere on the internet, but I didn't know. I thought, first a chachabitty, and then I'll see if it was the right answer. Well, never. But to push back, did you have the free version? Yes. That makes a lot of difference. The new one, you have to buy it, because I'm going to write my thesis. I pay for it, I pay 20 euros a month. You do all your thesis about that thing. Yes, that's true. 20 euros is a lot, and in a few years, those things are open source. So, there has to be a bit more competition, and then it has to be a few euros a month. Are those open source weights? No. Suddenly, OpenAI came out with a huge model, that worked really well, the 1.5, and it still wasn't great. But if you look at GPT-2, that's really... Very strange. Yes, very strange. I thought it was amazing that they saw potential in that. I thought, let's keep going. That was really good, but there was something wrong. Open source was crap, and that was still GPT-2, and that has been added. You don't have open source GPT-4, but you have open source GPT-3.5, GPT-8. And then, it doesn't cost that much anymore. For 10,000 euros, you can have your own thing, so that's nothing for a research group. For which part of the code is it open source? The whole training model. The weights. Architecture is open source, everyone knows that, but the weights are calculated by storing data for months, and that's valuable. That would be pretty cool, if you have your own... Say, take a research group, or a collaboration with research groups in the world, they just put their own papers, data in there, and then you just train them But then... Because I often... It's almost more like a kind of data archive, a kind of archive, because now, I've had a lot of times where I knew, this is somewhere, someone told me this, and yes, I know it's true, because you always see this again, but where do I find the original source, and where can I read more about it? You just have to go to gptv.nl, and you'll find it. And that's what's happening now, people are looking for the powerpoint for half a month now. Yes, you're doing stupid work. Yes, but it's not like we're contributing to creativity, integrity. This already exists. Yes, actually. You have Bing, and I know it's Bing, but that's just Google, compared to GPT 4.8, so that works for these things. Yes, but you still have to add it, don't you? Add on for gpt. Oh, that's also possible. I don't think it's original, but we have a collaboration, you can add it. No, I think you can get it from bing.com, but I did it twice, and then fuck it, I have gpt, and that's it. I don't want to do it anymore, because I want to look for funny cats. Bing, black background, and your profile picture with achievements, and news articles. Yes, very chaotic. Fucking annoying. You can't turn it off. No, but you can add the Bing add-on to your browser, and you'll get a panel on the right, and just like with File Explorer, just search in folder, and you'll get it in your browser, search in Bing, powered by JetGPT, you can do it. What I was talking about was more of a search engine, that has nothing to do with the neural network. No, but you can pull it through. The same argumentation sequence stops somewhere. Okay, search engine for this specific data thing. Can you use the search engine for a specific sentence, and for a specific argument? I think that if you have a very narrow research timeline, you can put yourself in danger. You can easily get caught up with each other. But on the other hand, if you do a new piece of research, how much can you really generate from that? For example, it's clearly about the impact of the data, and that's not going to work. The thing can do math. So you can, and it can do that very well, so you can say, because you know a little how a research is built up, and what is literally a science now is quantum engineering, you can make certain templates that say, hey, I use this way, my style of hiding is like this, and then you have a paragraph where you have a hiding example, and then you do, I reference this way, organize it in this style, and then these are my bullet points and results. I think that's all you want, and we need the results. Yes, but that is, but what you are talking about, I think, you don't deliver much on your naturalistic, whatever, creativity, interpretation. So it still remains authentic research, I think. It gets dangerous, or dangerous, it gets a lot more complex, if you don't get results, you get a discussion. A very extreme question. If, GPT improves in natural science, would you, and, would you really not work anymore, if there was money, and you have a house, and you can live your life? I would have to have it. What value are you going to have in your life? Life? After work? That has nothing to do with quality. After work is not bad in your life, that is a bit new. You work a bit of life, that is all about that. So I think, I would have to find something else. This feels much more chill, now that I can take a break, than because I have worked so long, and worked so hard, than because I am sitting at home, playing Street Valhalla. Yes, but I think there are more things that give you meaning. Your hobbies, your experiences. I agree with that. I agree with that. That is not what I said. I am more into culture. You can't say anything about that. How life is shaped. But I don't know if I am completely behind what I just said. But I think there is, I would, I don't know. I think a lot of people have a lot of identity regarding their achievements at school and at work. I think it reshapes how people should deal with it. Yes. Is it a problem for the weather, or is it a problem for us? I think it is a big problem. Not for everyone. People who do practical jobs, that is not a problem for them. But I think there is a significant part of the people who are connected to a job where they feel that they are specifically trained in writing or research. And I think that will change if such a thing is taken over. I can't imagine that it will become so good. That it will have the creativity. I don't see how that will work. But maybe that is just a naive thought. Here two. No one knows that. No. And the other thing is, we are all like this is not going to work. But some of us are afraid of it, but it is also a bit like it is also a bit like what happens with machines. In the past you had a thousand people and now you have ten more because the machine has to run, but the machine does everything. So it also feels a bit like... And yet we now have more working people. Yes. Then they also thought, oh, in the future there will be more work. And at the end of the day, do women also have to work and does the economy run exactly as fast? Exactly as fast? No, I don't agree with that. Yes, it is also faster now. I have too fast. Wait a minute, this is a very different topic. But we are really going to... The economy has been shrinking for half a year in the Netherlands. Yes. But when the women will start working, that will be a while. Okay. First point. I don't know. And I don't think it will happen in the next 10, 20 years. But I do see that it is possible. Just theoretically. And that's why I think it's cool to think about it. And... What was it again? That the... machines also have a lot of work. Oh yes, oh yes, oh yes. And then... I don't know what I think of that, but I thought it was a bit strange to do something so dramatic now, while it's actually what has been going on for the past 100 years. Yes. Yes, because if that also ensures... This is all difficult, but if that also ensures that we can stop climate change twice as fast, and that we just... That we can solve a lot of other problems a lot more efficiently, there are a lot of potential wins. Can you adapt your culture so that people no longer have to depend on their performance for their own value? Yes, I feel... Indeed, what Tanja said, I agree with her. A lot of people won't like that, I think. I wouldn't like that, but I'm not saying that it's a good thing and that it should be like that. I wouldn't like that either. I think that's super normal, but can you change that? Can you ensure that the culture improves so much that people don't like it anymore, or is it really so human that we really have to adapt to society? I think... Yes, a little side note. Schopenhauer. Schopenhauer. Have you ever read anything about him? Yes. Correct me if I'm wrong, but I've been listening to a podcast for half an hour. Basically an expert. But he said this kind of thing. And then of course he says a concept, and I'm a little bit absent-minded, but that the fundamental... That there is one fundamental drive of humans and kind of this to improve. Or that there's some... Yes, this or something. I don't know. This is someone. Clearly half-witted. Yes, I also... Fine. Nevermind. I know we have a time. I know I'm very enthusiastic about podcasting. But... I think it's something that has grown a lot in the last few decades. It depends on the culture, but I really think that it can become less if people go in with that instinct. I think things can be different. Okay. And you mean that people value their work. Yes, among other things. Yes, just... How much input they give, how good they are at their work, what kind of output they give, what kind of grades they get at school, what kind of... I don't know. Yes, and I think how useful you are for... Do you feel any value threatened by an AI for you? Do you know what an AI will never do? Be a good friend. Or make company. Or... No, never. Yes, okay. Do you understand what I mean? Just being a human. Just experiencing this. Which, again, is never that dangerous. But then that is everything that is left to excel in and to enjoy. Yes, that is a kind of... a transition that has been going on for a long time. First with the industrial revolution and everything after that. This is thinking. Is thinking different? In a way, yes. But in other ways, no. Because in the end, it depends on whether you have a job or not, or whether you have a job or not. Then, yes, it is just a job. And it is transferred by a machine. But there are also machines that do a lot of other things. And in the end, we find other things that we need to find. Yes. I think so too. I think you always find something. Definitely. I also think that you no longer get your value from things that a machine can do. That this also happens very naturally. Because then it just doesn't have much value anymore. And then you find something else. Meaning. For meaning. Do we talk about that? Or do you find something else for what? Yes, just more basic income. Yes, if that counts. That is the beginning of the argument. Yes, but that feels like a political problem to me. That makes me feel whether it can be theoretical. But can we get people out of it or something? Right? We are already producing food if that ... For us, this is a little more ... This was more of a practical point. But we live in a world where it is assumed that everything is going well. There is money. There is employment. Everyone gets an income. But that is not natural. No, that is our world. Yes, our world. And that can also change. Yes, definitely. That is the cool thing about your history. From 300 years ago or 600 years ago. 150 years. Yes, 150 years. There have been a few Universal Basic Income experiments. And that is the closest to this. Not quite, but it's getting close. You don't have to work for money anymore. But it has never been done well. The experiments all have hooks and eyes. So we don't know how people will react. That remains a ... I heard a very cool criticism of Universal Basic Income. I didn't agree with him. But he made a good case. He told the whole thing. A very to the point guy. Universal Basic Income? No, I hate it. Worst idea ever. What was the argument? I don't remember. It was such a podcast. Why don't you listen to it? I was really ready to go against Universal. I think it was a kind of it doesn't work. It was a kind of it doesn't work. Was it an ideological counterpoint or a practical counterpoint? I think more practical. Do you know why I don't trust him with food? Because he Stephen Holtz Stephen Holtz is a very cool entrepreneur. But after Tesla he is the second on the list. An entrepreneur wouldn't trust food that much. Who do you trust with food? Who do you trust? Yes, who? My mom. Okay, your mom. I agree. Top 3. But who? It's just a very you know. The entire ethics of your mom after you. That's good. But I agree with that because she gave it to me. She gave it to me. I think I don't know. I think people really taught you for it. In the studies of ethics. What I notice with philosophers is that they are really loose in the real world. And I don't know if you can understand a theory. I sometimes have the feeling that I don't understand it. Well, I don't really understand it. They are really loose in the theory. I don't know if the answer is there. Philosophers are often very abstract. And then you just have to ask to what extent it is applicable to our world. Yes, yes. And sometimes the theory is very nice. And then everyone agrees with each other. At a certain level. And then as soon as you start translating, everything changes. Yes, and someone has to translate ethics, right? Someone has to. Who is going to do that? Politics? Is that a big role? It plays a big role. Businesses play a big role and citizens play a big role. Yes, that's a good question. Those three have to participate. You can ask them if they do that well. Yes, exactly. Those are important questions. A bit earlier you said that history can be different every 50 years. I think that where it is good to work towards is balance. So not every 50 years there is a change and peace in the world. Balance. That's a good starting point. Conservatism. Yes, yes, yes. I was already thinking about that. That's very dangerous. Because the world is good, but it keeps changing. And do you have to stop that change? And how hard is that good innovation? I don't believe that we are at balance right now. So I believe that a lot has to change to get there. And who decides? I don't know if change is big. I don't know if it's good that we... I don't know if it's good for the human being, biologically, if we have to look for work in a different way than our parents. So we are all separate in how we look for work. But if the concept stays the same. If the world becomes more stable. That you know where you are going. And that you know if a country is safe or not. That's a balance between safety and freedom. I see that a lot. Or equality and freedom. I see that a lot. Yes. It's the same thing. It depends on the same thing. What did you say? Safety. Yes, but that you create such a balance that everyone wants to be safe. Do you understand? That you are in your freedom. And I believe in that. I think that's good. I have a practical question. Who decides if the balance is good? Democracy, I think. I think democracy. That's the best we've got. Ask me if we'll ever be one. If we'll ever be one. If the balance is good or not. But now, what you're saying. We're not in a balance. Maybe most people agree with that. Everyone wants to be on one side. Everyone wants to be on one side. Exactly. Who decides the balance? If everyone strives for it, that's good. Maybe everyone is striving for it now. But it will arise on all sides. I haven't thought about that. But I don't think we're communicating well at the moment. So that everyone knows what those pillars are. Do you think everyone can and wants to communicate well? Because if you... Democracy relies on a lot of people who don't necessarily see themselves in the mirror or the average person at the table. And what is that then? What... What does democracy rely on? What qualities should someone have? I think it relies on... Because it should always be the majority. And that there are a lot of people who just want to hold on and want to keep their own things safe. You expect everyone to strive for the good of the world. For the good of everyone. For the good of the collective. And that can be done in a different way. And open to change. It starts with everyone voting for the same thing. And that you have the same conversation. And that you know each other. It starts with so much more. Before you can work together as a group, you need some requirements. And we don't have those yet. I think. Then you can say something about democracy. But what is the alternative to democracy? I'm very curious. What do we have? Aristocracy? Technocracy. That the specialists in their field, so the healthcare workers, choose how healthcare works. And you can also come up with a balance system. I don't know if it has ever been developed in the Netherlands, but it is a management form that exists in Theo. I know the Greeks had something like... Random... You could only vote for yourself. No one voted for you. And then you chose randomly. And it worked like this. Random selection. Then you can get the most deputy person in power. No, not in power. Because then you only have 200 people voting. And everyone... Populism is impossible. In this form. Because everyone stands for himself. You can write on a list, if you want to vote. I don't know exactly how it works, but I think it works like this. You have a big list, and everyone can vote. But everyone who wants to vote, writes their name on it? Yes. And if you don't write your name on it, you don't vote. You write your name on it, and 200 people are chosen for a vote. And then you can vote. And then you can vote with everyone. And what if... We have a random group of people. A random group of people. And the only thing those people did, is that they committed to going deeper into this. And I'm going to have an opinion. I think that's cool. And then you can think of all the details. Is there a barrier to get on that list? About what you can vote? What if, a priori, of the whole group of people, is a populist? But a populist, you're always in the background. Or how are you a populist for yourself? Ah, okay, so that you're... You're an extremist. You're an extremist, who is quite populist. A strong leader. Yes, and then I'm... You see, with the FCD, it's mostly with the members. It's not necessarily a party with a lot of supporters, but it's very close. So maybe with a system like that, you get... I think if you have a group of populist supporters, who want to vote, then the chance of a populist becoming a leader is quite high. Yes, but no one really gets to the power. It's always voting. It's not a parliament. The power always lies with the majority. So if the majority becomes populist, or in the random voting... The majority of the people who signed up? Of the community. Of the community, we keep... Of the random 200 who are voted. I think it's balanced, because then you have a populist government, and then all the people with a different opinion just sign up. And you don't have governments. It's not fixed for four years. It's for every vote, every month. It's random every time. But still, according to my feelings, the people who are really populist... If you look at all the people who want to vote and don't want to vote, among the populists, there are a lot of pro-voters. Those are people who... If you're populist, you don't want to hear your opinion. I think. Yes, I don't know, but I believe you. If you're someone who isn't necessarily populist, but just a small, neutral person, then there are a lot more people in that group who aren't voters. Okay. But you don't know that now either. Is that bad? Well, let's say you're going to have a system of, I say, 200 voters in the community. Then there are probably relatively many populists. This reduces to the question, is the quality you gain by specializing in voting greater than the quality you lose by not voting for everyone anymore? Wow. Good approach. I don't know what the answer is. You can answer that. Hey man, we don't have time. Let's start from the beginning. Where did we start? Where are we going to start? If you vote against new people, how do you get to a balance like that? Yes, yes. Hmm. Hmm. Yes, because that would require a kind of conflicting opinion, which everyone consistently agrees with each other. Yes, that's true. I'm starting to disagree less and less with my balance as a choice. I think the balance as a goal is pretty good. Why? If the result is less achievable. And also not necessarily good, I think. To say that you're in balance and that you have to keep this and that. Yes. Don't you agree that if someone has done their ship in such a way that you open it up for the last bit? Or is there something better for that? I open it up. You open it up? Not this, let's say. Yes, then you have to be very conscientious, because it's still dirty. And then I assume that I eat it up. Yes, you have to roll it up. That's a really important question. Yes, yes. But you have to keep looking at it. Cool, that's really cool. I was going to say something really useless, I think. Yes. You said my balance. Why is balance good? Oh yes, why is it now that people are allowed to vote? When did it start? The French Revolution? I'm going to count it. After the 80 years of war. There was a kind of balance. When was this? In the 18th century. In the 17th century. No, I don't think so. Yes, I don't think so. When was Sarah allowed to vote? Since she was an adult. There was a lot of power in the Netherlands. Yes. There were a couple of kings. And a couple of queens. How was this country governed? There was nothing at the time. A combination of those two elements. I think that's where it started. Cool, because you had the Middle Ages and then you also had kings. You had everything, you had renaissance and shit. And in the end everyone had a king. But he decided to be allowed to vote. But that children were not allowed to vote in the middle of the country doesn't make sense to me. That children were not allowed to vote doesn't make sense to me. But why did you leave that country? It's weird. Why did you leave? It is of course that you probably in a certain age have a lot of democracy because it is very important to have democracy. And also with your parents because you are probably under your parents' care. Do you think we have democracy now? Maybe. And how far? In the Netherlands? Yes, now that we have democracy it doesn't make sense to leave. That was a proposal when we went in in 1921. I think it has a lot of disadvantages. At least advantages. But basically we just want democracy. Exactly, what are the requirements for democracy? That's a good question. This kind of question is great. This kind of question is great. It is also important to know. Actually nl.nl should have an about me where it says this. This is how it is regulated in a normal language. Is there a site in nl.nl? I hope so, I don't know. x.x is from twitter. I think about history but that is not accessible. That is history. I don't know. x.x cannot be reached. No? I hope so. But if you can't even haste then this might be available. Maybe this is not allowed. I don't think this is allowed. One of these two. There is a lot of stuff. There is a lot of stuff. The end is the place. The end is the place. Which mother? Which end? Everything has an end. Everything has an end. Then I will connect them both. They are not superformative. No, they are not. They are pure. Pure is pure. Yes. Thanks for the respect. High quality. High quality discussion. I am still thinking about how populist is. The voting system. The arbitrary voting system. Nice. There is a lot of research going on. Tao, I read about it recently. Decentralized auto-organisms. I don't know what you did. Political logic or something. And then you are going to research new forms. And do small tests. With 80 people you paid to participate. x.x We are all going to live in a house in the woods. And we are going to build our own society. This is the project I am working on. I am working on this one. And next to it we are researching how you can build democracy. I was curious about the 21st century. Yes, I was trying to figure out how to build democracy. And there is a lot of criticism. I was in a blog post. Why should a company think about how to build democracy. The government should do this. They say so. It is part of the big problem. What do you think about this? I don't think the government should do this. Really. I am 100% sure about that. What should be done? OpenAI is doing research on how you actually market democracy. Not how they really market it. But how I understand it. Think about using technology to create new forms of democracy. Or something like that. No. A new way to reach people. Yes. With people who think OpenAI has as mission that everyone in the world thinks about the happiness of AI. How are we going to make that mission come true? Cool. It is super nice that this company has an ethical compass. Yes. It is a big company. There are 350 people. Not a lot of people. But it is an ecosystem. Half of the people work at Google. Yes, I don't know. Other forms of democracy. It seems very difficult. I don't think so. If you do something like this as I imagined then you take away some people's right to vote. I don't think everyone has the right to vote. What did I vote for? With those 200 people. Then you take away... How do you decide about that? Do you have to vote about that? Then only 200 people are allowed. If they are chosen everyone still has the same chance. I think a lot of people would feel that way. I think it is less intuitive for people. I think people feel that way more often at companies. Things that are not real. Even if it looks good I don't think people will go after it. Yes. Yes. You can try a small country. The Netherlands. Smaller. Amsterdam. I think Amsterdam is cool. If Amsterdam becomes chaos then you put a fence around it. Then we go further south. I am a fan of a fence. I want to take a picture of that. No, take it. I will put it here. I love countries. I think countries have always changed through history. So the fact that it would be like it is now doesn't make sense. Belgium speaks two languages. What makes a country a country? But now a lot is based on countries. The World Cup football is falling apart if there are no more countries. Sport doesn't work anymore. People don't care about the climate. Because they are not organized. Yes. They only blame other countries. And things they don't want to see. This is exactly what happened yesterday. We both live in a world bomb. So what is it? Two or more countries that all have their own interests. It's not working. And then you go to the continent level. And then you go to the world level. And then it's like one team and I leave it to you. Because we now have to take care of the same thing with all those 200 plus countries. The Earth. But if you don't have to deal with 200 anymore. If no one was like we had this goal. But hello, you see those other countries that are much bigger, they haven't done it either. Or those they and us. Yes, but you see that with people too. We also talked about that yesterday. Do the citizens have to take responsibility? No, the government has to take responsibility. It's a bit human. And now I have built my new house. And it works well. As a housemate, you live with the two of you. Then you have to think that you do 70% of the work. And then you do a lot of work. That's also the case in relationships, I think. You see it yourself. Of those studies on how people should eat, how much they do themselves. There's always more. Then the sum is 130. So I think in doubt, you have to do something yourself. I'm afraid this is really true. Yes, it's very true. Psychology has a handle on what the sauce is. But this is really pain-reliable. I found that funny. You told me once. If 50% think they can drive well, then 80% think above average is good. Wait a minute. That saving is really fun. If 50% think they can drive well. Yes, better than average. Better than average, yes. But that is statistically impossible. I hear a lot about that kind of statistics. I think it's funny. Yes, those are fun. Something like biological flaws of humans. How many percent of men think they have a bigger penis than us? Yes, average. And then it says 70% and then secretly 30%. This just determines how many men are insecure. You can't drop it. First you have to ask everyone. First you have to do your own thing. That's really funny. And then you take your whiteboard and you've drawn that table. With our name and length. Yes, yes, yes. And then you put a stick on it if they seem to be smaller than average. Oh, that's totally possible. If you have a name, length and secret security. Yes, that's really super cool. You don't only know if someone has a small penis, but also if they have it wrong. We can't be mean and say I have a smaller penis and he has it right or wrong. No, you can't say I have a silver morse. This is like the Churchill Casting. We shouldn't do this. The reason why men make jokes about this is exactly this. The security probably. I don't know. But I think so, yes. This is the moment when everyone has to act like it's real. I'm not bothered by it. I've heard it. I've heard it. But I have to act like it's real. I'm not going to make a point anymore. No, do it. No, do it. I'm not going to make a point anymore. You don't have to be insecure. Because you're above all insecure. Yes, sure. Sure. Here's Ketchup asking what are the top 10 and then 6 isn't right. But then you have an idea. I just want this statistic. What are 10 psychological flaws or biological psychological flaws? I'm just looking for how many percent of men think that I'm stupid. You just have to google it. If you're a philosopher it's more fun. I have to log in, I have to bid. The app is off. Is Warren an app? No, Warren is also an app. But also KetchupTV. Oh, you're going to KetchupTV? On Android. You don't have to log in. This is mystery leaving. That's too much trouble. But you can't google it. Google is difficult. You really have to make a point. Google is nice. What percentage of men think their dick is larger? You're already at KetchupTV. KetchupTV is half a year out. And you refuse to google it. But a year ago you did it without effort. I refuse to google it. How fast people change is insane. I was like that in the beginning. You were pretty late. Yes, because all my friends were blogging day 2. But I was like what does that have to do with your thinking? What does that have to do with your... Be careful. I thought it was creepy to just throw it into the world. To... I don't know what I'm going to do. And I was afraid it would stop your own thinking process. Do you still have those uncertainties and questions? That's a good question. I don't know. No, exactly. I noticed that I wrote a piece of software it's not finished yet. It records my voice on my phone and automatically types it out and summarizes it in my Notion Comp. A year ago I could never do this with Google and it would have taken me 2 weeks. Without Google I can't do it at all. But now KetchupTV is a better stack exchange. And I did it. I had a plan, and these are my steps I took. Can you repeat the questions I asked you or can you repeat the notes I gave you? Yes. Good question. Because that's what it's all about. Yes, exactly. What do you think less of? I don't know. That's one of your criticisms, but 50-60% of men think their penis size is above average. But that's not true. But this is about the uncertainties. Oh, so it's a bit nuanced? Well, yes. When people are uncertain, they think they're below average. If you're more uncertain... So, if I normally drive a car, 80% of people think their penis size is 50-60. That's a lot of uncertain men. Nice clothes. But they're a bit short. In terms of thinking, no, I can't say that. We don't know a lot. We don't know what phones do. We have no idea. No, 70-80%. I think that's funny. I have two questions. The first one is throwing something into the world without knowing the effects. I'm against that. I also drew that pause of the stop of AI development for six months. It would have looked really cool if we had done that with the world. We would have said, wait a minute, that's not true. But that didn't happen. Really. How many people did you draw? Not that many. I think 30,000. But big names. Within the world. I think the hand of capitalism is too strong for this. Things like this can't stand still. I think you're right. I think most people would have thought it was fine. But the hand of capitalism... Exactly. So, jump on board and try to control it. That's the only thing I can say about it. Because capitalism has won. The only thing you can do is participate and see if you can control it. And capitalism has won again. One battle. One battle. The world is in your hands. Good luck. You can't stop this. How are you going to shape it? The fact that AI is in the world is something you can't change. You can't change it either. At least not that hard. And now it's time to think about the implications and how to deal with it. There are too many models. You know what's creepy? You know what I think is creepy? How you image-generate those porn accounts where you can buy girlfriends and talk to them. But also friends. That's what I was going to say. It's dangerous to say it. You can't say it. No, I was aware of that. But... I think... I've been thinking about it for half a year. This is terrifying. I don't think we'll be happy about this as humans. But we have to be careful. I don't think anyone will be happy about 2 per day Instagram scrolling. But it happens. So we have to wait and see if we have to ban it. Or if we have to do something about it. Or think about it. Struggle is our word. With all the other... All the other things Some of the things in that category are regulated. Like gambling, drugs... Yeah, yeah. That's part of it. You don't do that and it happens. There's heroin in the corner. We try to avoid that. It's regulated. Gambling, drugs and technology. You don't have to throw AI into everything. Even with alcohol. But actually you just have to throw intelligence into it. You can't use certain things for intelligence. You can't use certain tools. So is it recreating people and building a whole second virtual person? Maybe we should ban those things. But is it to generate text or to ask a super genius to create text? That's a completely different question. Maybe you should ban the end goals of AI. Cool idea. It does make it more difficult than gambling and drugs that it's so much more vague. And it's so broad. There's a new one. I think it's clear. Taxonomy. That's one of my tasks. It's more about the democratic process. Taxonomy is also very broad. Taxonomy. Taxonomy for the AI. What is it? Eyebrow powder drugs. Eyebrow powder drugs. Yeah. We just got options for that. Maybe we can use intelligence for that. That's never going to be perfect. How long have we been talking? An hour. I think I'm going to stop.\\n\""
      ]
     },
     "execution_count": 21,
     "metadata": {},
     "output_type": "execute_result"
    }
   ],
   "source": [
    "transcript"
   ]
  },
  {
   "cell_type": "markdown",
   "metadata": {},
   "source": [
    "### split long files"
   ]
  },
  {
   "cell_type": "code",
   "execution_count": 11,
   "metadata": {},
   "outputs": [
    {
     "data": {
      "text/plain": [
       "2.4601547151277012"
      ]
     },
     "execution_count": 11,
     "metadata": {},
     "output_type": "execute_result"
    }
   ],
   "source": [
    "# not needed when also 16k context model can be used\n",
    "\n",
    "# max_tokens = 4097\n",
    "# avg_token_len = 4\n",
    "# max_trans_len = max_tokens * avg_token_len - 100 #for safety\n",
    "\n",
    "# len(transcript) / max_trans_len"
   ]
  },
  {
   "cell_type": "markdown",
   "metadata": {},
   "source": [
    "# generate summary, topic list, and critical questions"
   ]
  },
  {
   "cell_type": "code",
   "execution_count": 4,
   "metadata": {},
   "outputs": [],
   "source": [
    "# summary_prompt      = \"\"\"\\\n",
    "# You are a helpful assistant, specialized in summarizing and understanding the core of a given message. \\\n",
    "# For the given piece of text, you are going to perform the following four tasks. \\\n",
    "# Firstly, start your response with a consice title describing the text. \\\n",
    "# Secondly, summarize in first person the content of this text in about one alinea. \\\n",
    "# Thirdly, list the different topics discussed in this text. Only add a topic when it is discussed for at least a couple of sentences. \\\n",
    "# Fourth, imagine being a critical life coach of the person writing this text. What are the three best questions you could ask regarding this text?\\\n",
    "# \"\"\""
   ]
  },
  {
   "cell_type": "code",
   "execution_count": 22,
   "metadata": {},
   "outputs": [],
   "source": [
    "summary_prompt      = \"\"\"\\\n",
    "You are specialized in summarizing and understanding the core of a given message. \\\n",
    "For the given piece of text, perform the following four tasks. \\\n",
    "First, provide a concise title describing the text. \\\n",
    "Second, summarize in first person the content of this text. \\\n",
    "Third, list the different topics discussed in this text. \\\n",
    "Fourth, imagine being a critical life coach. Provide the three best questions you could ask regarding this text.\\\n",
    "\"\"\""
   ]
  },
  {
   "cell_type": "code",
   "execution_count": 24,
   "metadata": {},
   "outputs": [],
   "source": [
    "text_response = openai.ChatCompletion.create(api_key=OPENAI_API_KEY,\n",
    "                                             model=\"gpt-3.5-turbo\",\n",
    "                                             messages=[\n",
    "                                                 {\"role\": \"system\", \"content\": summary_prompt},\n",
    "                                                 {\"role\": \"user\", \"content\": transcript}\n",
    "                                             ])"
   ]
  },
  {
   "cell_type": "code",
   "execution_count": 25,
   "metadata": {},
   "outputs": [
    {
     "data": {
      "text/plain": [
       "'Title: The Future of Education, AI, and Democracy\\n\\nSummary: The conversation touches on various topics, including the role of AI in education, the importance of independent thinking and experimentation, the limitations and biases of AI, the need for critical thinking skills, the balance between using technology and mastering fundamental skills, the potential impact of AI on society, the challenges of democracy, and the quest for balance and meaning in life.\\n\\nTopics discussed:\\n1. The role of AI in education\\n2. The importance of independent thinking and experimentation\\n3. The limitations and biases of AI\\n4. The balance between using technology and mastering fundamental skills\\n5. The potential impact of AI on society\\n6. The challenges of democracy\\n7. The quest for balance and meaning in life\\n\\nThree questions for a critical life coach:\\n1. How can we foster independent thinking and experimentation in education while also utilizing AI technologies?\\n2. How can we address the limitations and biases of AI to ensure that it promotes learning and critical thinking?\\n3. What strategies can be implemented to cultivate a better balance between using technology and developing foundational skills in education?'"
      ]
     },
     "execution_count": 25,
     "metadata": {},
     "output_type": "execute_result"
    }
   ],
   "source": [
    "text_response[\"choices\"][0][\"message\"][\"content\"]"
   ]
  },
  {
   "cell_type": "markdown",
   "metadata": {},
   "source": [
    "## process response"
   ]
  },
  {
   "cell_type": "code",
   "execution_count": 26,
   "metadata": {},
   "outputs": [],
   "source": [
    "content_notion = text_response[\"choices\"][0][\"message\"][\"content\"].split(\"\\n\\n\")"
   ]
  },
  {
   "cell_type": "code",
   "execution_count": 27,
   "metadata": {},
   "outputs": [],
   "source": [
    "title_notion = 'Not found'\n",
    "summary_notion = 'Not found'\n",
    "topics_notion = 'Not found'\n",
    "critical_questions_notion = 'Not found'\n",
    "\n",
    "title_notion = content_notion[0]\n",
    "summary_notion = content_notion[1]\n",
    "topics_notion = content_notion[2]\n",
    "critical_questions_notion = content_notion[3]"
   ]
  },
  {
   "cell_type": "markdown",
   "metadata": {},
   "source": [
    "# create Notion page"
   ]
  },
  {
   "cell_type": "code",
   "execution_count": 28,
   "metadata": {},
   "outputs": [
    {
     "data": {
      "text/plain": [
       "{'object': 'page',\n",
       " 'id': 'd2216952-8b29-4361-be0a-9fc1d372bb17',\n",
       " 'created_time': '2023-08-23T10:53:00.000Z',\n",
       " 'last_edited_time': '2023-08-23T10:53:00.000Z',\n",
       " 'created_by': {'object': 'user',\n",
       "  'id': 'dc664599-409b-4fbc-b638-fa34c238bb19'},\n",
       " 'last_edited_by': {'object': 'user',\n",
       "  'id': 'dc664599-409b-4fbc-b638-fa34c238bb19'},\n",
       " 'cover': None,\n",
       " 'icon': {'type': 'emoji', 'emoji': '🎙️'},\n",
       " 'parent': {'type': 'database_id',\n",
       "  'database_id': 'e5568bc0-5015-4ec7-bd8c-ba5050353de6'},\n",
       " 'archived': False,\n",
       " 'properties': {'Created time': {'id': 'BAiK',\n",
       "   'type': 'created_time',\n",
       "   'created_time': '2023-08-23T10:53:00.000Z'},\n",
       "  'Name': {'id': 'title',\n",
       "   'type': 'title',\n",
       "   'title': [{'type': 'text',\n",
       "     'text': {'content': 'Title: The Future of Education, AI, and Democracy',\n",
       "      'link': None},\n",
       "     'annotations': {'bold': False,\n",
       "      'italic': False,\n",
       "      'strikethrough': False,\n",
       "      'underline': False,\n",
       "      'code': False,\n",
       "      'color': 'default'},\n",
       "     'plain_text': 'Title: The Future of Education, AI, and Democracy',\n",
       "     'href': None}]}},\n",
       " 'url': 'https://www.notion.so/Title-The-Future-of-Education-AI-and-Democracy-d22169528b294361be0a9fc1d372bb17',\n",
       " 'public_url': None}"
      ]
     },
     "execution_count": 28,
     "metadata": {},
     "output_type": "execute_result"
    }
   ],
   "source": [
    "url = \"https://api.notion.com/v1/pages/\"\n",
    "\n",
    "headers = {\n",
    "    \"Authorization\": f\"Bearer {NOTION_API_KEY}\",\n",
    "    \"Notion-Version\": \"2022-06-28\",\n",
    "    \"Content-Type\": \"application/json\"\n",
    "}\n",
    "\n",
    "data_database = {\n",
    "\n",
    "    \"parent\":   {\n",
    "        \"type\": \"database_id\",\n",
    "        \"database_id\": NOTION_DATABASE_ID\n",
    "                },\n",
    "    \"icon\": {\"emoji\": \"🎙️\"},\n",
    "\n",
    "    \"properties\":   {\n",
    "        \"Name\":         {\n",
    "            \"title\": [{\"text\": {\"content\": title_notion}}]\n",
    "                        }  \n",
    "                    },\n",
    "\n",
    "    \"children\": [\n",
    "        {\n",
    "            \"object\": \"block\",\n",
    "            \"heading_2\": {\"rich_text\": [{\"text\": {\"content\": \"Summary\"}}]}\n",
    "        },\n",
    "        {\n",
    "            \"object\": \"block\",\n",
    "            \"paragraph\": {\"rich_text\": [{\"text\": {\"content\": summary_notion}}], \"color\": \"default\"}\n",
    "        },\n",
    "        {\n",
    "            \"object\": \"block\",\n",
    "            \"heading_2\": {\"rich_text\": [{\"text\": {\"content\": \"Topics\"}}]}\n",
    "        },\n",
    "        {\n",
    "            \"object\": \"block\",\n",
    "            \"paragraph\": {\"rich_text\": [{\"text\": {\"content\": topics_notion}}], \"color\": \"default\"}\n",
    "        },\n",
    "        {\n",
    "            \"object\": \"block\",\n",
    "            \"heading_2\": {\"rich_text\": [{\"text\": {\"content\": \"Critical Questions\"}}]}\n",
    "        },\n",
    "        {\n",
    "            \"object\": \"block\",\n",
    "            \"paragraph\": {\"rich_text\": [{\"text\": {\"content\": critical_questions_notion}}], \"color\": \"default\"}\n",
    "        },\n",
    "        # {\n",
    "        #     \"object\": \"block\",\n",
    "        #     \"heading_2\": {\"rich_text\": [{\"text\": {\"content\": \"Transcript\"}}]}\n",
    "        # },\n",
    "        # {\n",
    "        #     \"object\": \"block\",\n",
    "        #     \"paragraph\": {\"rich_text\": [{\"text\": {\"content\": transcript}}], \"color\": \"default\"}\n",
    "        # },\n",
    "                ]\n",
    "\n",
    "}\n",
    "\n",
    "response_get = requests.post(url, headers=headers, json=data_database)\n",
    "response_get.json()"
   ]
  },
  {
   "cell_type": "code",
   "execution_count": null,
   "metadata": {},
   "outputs": [],
   "source": []
  }
 ],
 "metadata": {
  "kernelspec": {
   "display_name": ".venv",
   "language": "python",
   "name": "python3"
  },
  "language_info": {
   "codemirror_mode": {
    "name": "ipython",
    "version": 3
   },
   "file_extension": ".py",
   "mimetype": "text/x-python",
   "name": "python",
   "nbconvert_exporter": "python",
   "pygments_lexer": "ipython3",
   "version": "3.10.0"
  },
  "orig_nbformat": 4
 },
 "nbformat": 4,
 "nbformat_minor": 2
}
