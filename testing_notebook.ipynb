{
 "cells": [
  {
   "cell_type": "markdown",
   "metadata": {},
   "source": [
    "# preamble"
   ]
  },
  {
   "cell_type": "code",
   "execution_count": 4,
   "metadata": {},
   "outputs": [],
   "source": [
    "########## PREAMBLE ###########################################################\n",
    "\n",
    "# general imports\n",
    "import openai\n",
    "import os\n",
    "import requests\n",
    "import json\n",
    "\n",
    "# import scripts\n",
    "from scripts import transcribe, process_transcript, check_response, prepare_yield_NOTION\n",
    "from prompts import prompts\n",
    "\n",
    "# declaring secrets\n",
    "from dotenv import load_dotenv\n",
    "load_dotenv()\n",
    "OPENAI_API_KEY = os.environ[\"OPENAI_API_KEY\"]\n",
    "NOTION_API_KEY = os.environ[\"NOTION_API_KEY\"]\n",
    "NOTION_DATABASE_ID = os.environ[\"NOTION_DATABASE_ID\"]\n",
    "\n",
    "# declaring static variables\n",
    "MAX_WHISPER_AUDIO_SIZE = 26262828\n",
    "\n",
    "MAX_CONTEXT_4K = 4097\n",
    "MAX_CONTEXT_16K = 4097 * 4\n",
    "\n",
    "MAX_BLOCK_SIZE = 2000\n",
    "\n",
    "# declaring dynamic variables\n",
    "AUDIO_FILE_PATH = \"./to_process/230905-reflection_daily.mp3\"\n",
    "THOUGHT = \"daily_reflection\""
   ]
  },
  {
   "cell_type": "code",
   "execution_count": 7,
   "metadata": {},
   "outputs": [
    {
     "name": "stdout",
     "output_type": "stream",
     "text": [
      "daily_reflection\n",
      "blog\n",
      "nederlands\n"
     ]
    }
   ],
   "source": [
    "# print all Thought options\n",
    "for thought in prompts:\n",
    "    print(thought)"
   ]
  },
  {
   "cell_type": "markdown",
   "metadata": {},
   "source": [
    "# thought processing"
   ]
  },
  {
   "cell_type": "markdown",
   "metadata": {},
   "source": [
    "### transcription"
   ]
  },
  {
   "cell_type": "code",
   "execution_count": 2,
   "metadata": {},
   "outputs": [
    {
     "name": "stdout",
     "output_type": "stream",
     "text": [
      "Transcription started.\n",
      "Transcription finished!\n"
     ]
    }
   ],
   "source": [
    "print(\"Transcription started.\")\n",
    "transcript = transcribe(THOUGHT, AUDIO_FILE_PATH) # also deals with long audio files\n",
    "print(\"Transcription finished!\")"
   ]
  },
  {
   "cell_type": "code",
   "execution_count": 3,
   "metadata": {},
   "outputs": [
    {
     "data": {
      "text/plain": [
       "\"This is my daily reflection. I'm going to do it in English to practice, and it's probably easier with Whisper and GPT. Although, I don't know, maybe Dutch is fine as well. So, first about the thought processor idea. It's also a powerful way to reflect. So, thinking out loud and reflecting. That's one thing, sending yourself voice notes, but it's becoming powerful when I actually read them back. When I reflect on the reflection, when I process the reflection. Because often I have ideas, do reflectional insights, so that's good. But if I don't store them somewhere, they're probably going to get lost. So, I need a place to store, a place to share would be nice. Maybe tomorrow I could think of how such a system could look like on different levels. So, a really high meta level, what I was just saying, like a place to reflect or to share thoughts. A place to share things that you would like to either save or process later. So, in a way you can also use it as a to-do list. You can also use it to reflect. You can also use it to, I don't know, maybe other things. I list those and then I list like a meta level. So, what I was just saying, you want to store them. How do you want to store them? Do you want to share them? Maybe even like a dashboard, like a way to look into the database. And then on certain parameters that I would like to know from the database. Okay, a thought in between. I actually know quite a bit about data science, so I shouldn't put my data science too low. Because that's also quite, especially in companies, it's really useful. I think I like the machine learning a bit more. There are also build applications with AI or something. Like building stuff, I don't know. Maybe it's just more challenging. Maybe I just like stuff that's... ...challenging. And then what Thanos is doing with his data science database machine learning is probably also quite challenging. Because now I'm thinking pivoting again. Going from data science and then applied back to the more academic stuff. It's also something I did from the academic physics. From the academic physics, I went from the applied Thanos to the academic physics, to the engineering of data science. Engineering, more like business data science. And then I went back to the more academic machine learning AI. And about the tiled processor. Back to that. And then also... Maybe it's an idea of tomorrow I... Make a plan. Like a notion page. Start with a blank page and let it evolve. And... And I just set some time aside. It was in a while to... To clean up everything. Which might become a lot quicker with the tiled processor. But... But... Tiled processor is too long, it's too heavy. Think tank. I like that. A think tank. Thought tank. Thought is a difficult word. Think. Think tank. Think tank. Think tank. Think tank. A little bit more playful. Thinky. It's too childish. Thinkers. Sounds like a mushroom. Thinkle. Thinkle. Okay, that's just a bit weird. Um... Think, sink. Think, think tank. Think tank. Think tank. Okay, um... Whatever. Another thought I had. Not about the app, but just about the daily reflection. I really enjoyed my day. I really enjoyed yesterday. I was full and I was like... Constantly on the run. And everything evolved really naturally. Like I let everything just evolve, but... I don't know, lovely days and I think... I know I need to see in the long term, but I think I got quite a lot done. I enjoyed it and I... Yeah, did everything that I wanted to do. I just have to really protect work. Because it's easy to... Let work time be eaten up by other things. But the other things, they will evolve by themselves. Just have to protect work and protect my sleep. I have to... And that's kind of it. I think most of the other things kind of come naturally. I have to protect my forehead. Freaking biting. From using my nails. This... Might also be something in my payout, but maybe this is too practical. Because this, I don't know. Payout needs to be really like... Ideally I want something that's still to throw in a year, but... Even better if it's over five years. Or longer. No, not longer. It should also always like... Very slightly, just to talk the language that I'm talking right now. I shouldn't do that. The thought I had, I was quite busy. And I don't know. I think I'm happy. At least I'm peaceful. It's a constant struggle of accepting, accepting, accepting. Accepting the present, accepting the present. Because nothing goes as how I planned it. And in a way, it's like... I don't know. Nothing goes as how I planned it. And in a way, it's just better to not plan. And just let it evolve. Also with friends, or even how a relationship turns out. How work, whatever I'm going to do for work. But it doesn't mean that I cannot have dreams. I think it's really important and wonderful to dream. And important probably, that I can work for those dreams. Like, I have to do something. And I want that something to be... The world benefits from it. I want that something to be something that I enjoy. I want that something to be something that pays my bills. Yeah. I'm kind of looking at it as a hobby. But that I'm really lucky, because I care less about money. That's really powerful. And... Fuck money. Give a shit about money. Fuck money. Give a shit about money. And... I should not give anything about money. But I'm in a really, really fortunate position. Because in my head... I'm just looking at the lifestyle of others. I don't really know how much money is how much money. Because I haven't experienced it. But I think like 3000 is... I can do easily with 3000. But 3000 is like double minimum wage. And it's like... I don't know how much it's above. Maybe it's about average, median. A bit higher. Probably. Okay. I should go to bed. I need to wake up in like 5 hours again. So I need to go to bed. Yeah, sleep is tough to protect. Because I didn't get enough sleep. I got way too little sleep. So I put... There was too much stuff in this day. What would I have liked to remove? The shirt. I've seen him in an hour. An hour and some energy. So maybe just like... Really make sure that I only spend like... 4 hours a week. 4 hours a month. Like so. So maybe a lot of things I can let go naturally. And some things I need to make sure that I do enough. It's protected time. Some things I need to make sure that I don't do too much. Maybe I can take this in my life hub. It's like a table. But it needs to be like only... It's like what's necessary. Really minimalistic and easy to use. UX. I think I'm good at UX. Definitely good at UX. I'm definitely good at UX. I think I'm above average UX. So... That could be on my LinkedIn. Oh mate, if I list this back. This is so, I think, valuable. But... And it's something I can practice. And then... While practicing I should... I don't know. Write a bit about it. Because... Not only an app. But an app plus. Like a guide on how to reflect. Makes it so much more powerful. I think. Because the framework... Maybe I want the framework to be really like minimalistic. And people can... Do with it what they want. And then... What I would like is... Yeah. Death. Thieves. Free. I probably would like it free. But licensed. To start with. I don't know why. Because I just put a lot of effort in it. I should think about that. I should think about that. But... Start with licensed. And then free. And then maybe people can pay a bit for... My... Guide. And then... Because then I get money from it. And I can put more attention to it. And then I want to make it bigger and bigger. And just like... No, I want to make it better and better. Oh, be careful. I don't want to make it bigger. Make it better and better. Till it's like... The cost is not worth the effort anymore. And then... I can... Lower the price and make it like free, free. Make it like an open framework or something. Be the first company in the world that does that. That kind of... Leaves its company to the public. Like gives its employees a year to... To finish working. And a year before and heads up. Give them like an extra year salary. Maybe even. Just as a thank you. And just to make sure the company... Ends wonderfully. That everyone works really hard for the last year. And I can be open about it. I think... People that work with me deserve that. And... I don't know. I can do a sort of... Calculation on why I think it's worth the money. And then... Share that as well. Just slowly make it... Like open source from the start. But just... Slowly make it more and more accessible in a way. And then I think about how I would do that. I mean, as an entrepreneur with just even like a small app. Like it's already... I can have so much like... Fun. I think I enjoy Impact as well. It's just more fun with Impact. Okay. I really need to get to sleep. Well, enjoy your night and... I'll see you tomorrow. Bye bye.\\n\""
      ]
     },
     "execution_count": 3,
     "metadata": {},
     "output_type": "execute_result"
    }
   ],
   "source": [
    "transcript"
   ]
  },
  {
   "cell_type": "markdown",
   "metadata": {},
   "source": [
    "### transcript processing"
   ]
  },
  {
   "cell_type": "code",
   "execution_count": 4,
   "metadata": {},
   "outputs": [
    {
     "name": "stdout",
     "output_type": "stream",
     "text": [
      "Text processing started.\n",
      "Text processing succes!\n"
     ]
    }
   ],
   "source": [
    "print(\"Text processing started.\")\n",
    "text_response = process_transcript(THOUGHT, transcript)\n",
    "print(\"Text processing succes!\")"
   ]
  },
  {
   "cell_type": "code",
   "execution_count": 5,
   "metadata": {},
   "outputs": [
    {
     "name": "stdout",
     "output_type": "stream",
     "text": [
      "<class 'str'>\n"
     ]
    },
    {
     "data": {
      "text/plain": [
       "'{\"title\": \"Reflections on the Power of Thought Processing and Personal Development\", \"summary\": \"The writer reflects on the idea of thought processing and the importance of storing and reflecting on one\\'s thoughts. They also discuss potential ways to create a system for storing and sharing thoughts. In addition, the writer explores their interests in data science and machine learning. They also contemplate the importance of protecting work and sleep, as well as the value of dreaming and pursuing meaningful work. The writer acknowledges their fortunate position regarding money and expresses a desire to create an app and guide on reflection. Finally, they consider the possibility of making their app open source and discuss their aspirations as an entrepreneur.\", \"lessons\": [\"The act of reflecting on one\\'s thoughts can lead to valuable insights\", \"Storing and processing thoughts is crucial to prevent them from being lost\", \"Protecting work and sleep is essential for personal well-being\", \"Dreaming and pursuing meaningful work are important for personal satisfaction\", \"Money should not be the sole focus and impact should be prioritized\"], \"topics\": [\"thought processing\", \"storing and reflecting on thoughts\", \"creating a system for sharing thoughts\", \"interest in data science and machine learning\", \"protecting work and sleep\", \"importance of dreaming and pursuing meaningful work\", \"attitude towards money\", \"desire to create an app and guide on reflection\", \"considering open sourcing the app\", \"aspirations as an entrepreneur\"], \"critical questions\": [\"How can the writer create a system for storing and sharing their thoughts that is both effective and user-friendly?\", \"What steps can the writer take to protect their work and prioritize their sleep?\", \"How can the writer balance their interests in data science and machine learning with their desire to create an app and guide on reflection?\"]}'"
      ]
     },
     "execution_count": 5,
     "metadata": {},
     "output_type": "execute_result"
    }
   ],
   "source": [
    "print(type(text_response[\"choices\"][0][\"message\"][\"content\"]))\n",
    "text_response[\"choices\"][0][\"message\"][\"content\"]"
   ]
  },
  {
   "cell_type": "markdown",
   "metadata": {},
   "source": [
    "### check data Notion"
   ]
  },
  {
   "cell_type": "code",
   "execution_count": 6,
   "metadata": {},
   "outputs": [],
   "source": [
    "content_notion = check_response(text_response)"
   ]
  },
  {
   "cell_type": "code",
   "execution_count": 7,
   "metadata": {},
   "outputs": [
    {
     "data": {
      "text/plain": [
       "{'title': 'Reflections on the Power of Thought Processing and Personal Development',\n",
       " 'summary': \"The writer reflects on the idea of thought processing and the importance of storing and reflecting on one's thoughts. They also discuss potential ways to create a system for storing and sharing thoughts. In addition, the writer explores their interests in data science and machine learning. They also contemplate the importance of protecting work and sleep, as well as the value of dreaming and pursuing meaningful work. The writer acknowledges their fortunate position regarding money and expresses a desire to create an app and guide on reflection. Finally, they consider the possibility of making their app open source and discuss their aspirations as an entrepreneur.\",\n",
       " 'lessons': \"- The act of reflecting on one's thoughts can lead to valuable insights\\n- Storing and processing thoughts is crucial to prevent them from being lost\\n- Protecting work and sleep is essential for personal well-being\\n- Dreaming and pursuing meaningful work are important for personal satisfaction\\n- Money should not be the sole focus and impact should be prioritized\\n\",\n",
       " 'topics': '- thought processing\\n- storing and reflecting on thoughts\\n- creating a system for sharing thoughts\\n- interest in data science and machine learning\\n- protecting work and sleep\\n- importance of dreaming and pursuing meaningful work\\n- attitude towards money\\n- desire to create an app and guide on reflection\\n- considering open sourcing the app\\n- aspirations as an entrepreneur\\n',\n",
       " 'critical questions': '- How can the writer create a system for storing and sharing their thoughts that is both effective and user-friendly?\\n- What steps can the writer take to protect their work and prioritize their sleep?\\n- How can the writer balance their interests in data science and machine learning with their desire to create an app and guide on reflection?\\n'}"
      ]
     },
     "execution_count": 7,
     "metadata": {},
     "output_type": "execute_result"
    }
   ],
   "source": [
    "content_notion"
   ]
  },
  {
   "cell_type": "markdown",
   "metadata": {},
   "source": [
    "### upload to Notion"
   ]
  },
  {
   "cell_type": "code",
   "execution_count": 8,
   "metadata": {},
   "outputs": [
    {
     "name": "stdout",
     "output_type": "stream",
     "text": [
      "Processed text uploading succesful!\n"
     ]
    }
   ],
   "source": [
    "url = \"https://api.notion.com/v1/pages/\"\n",
    "\n",
    "headers =   {\n",
    "    \"Authorization\": f\"Bearer {NOTION_API_KEY}\",\n",
    "    \"Notion-Version\": \"2022-06-28\",\n",
    "    \"Content-Type\": \"application/json\"\n",
    "            }\n",
    "\n",
    "data_database = prepare_yield_NOTION(THOUGHT, NOTION_DATABASE_ID, MAX_BLOCK_SIZE,\n",
    "                                     content_notion, transcript)\n",
    "\n",
    "response_get = requests.post(url, headers=headers, json=data_database)\n",
    "print(\"Processed text uploading succesful!\")"
   ]
  },
  {
   "cell_type": "code",
   "execution_count": null,
   "metadata": {},
   "outputs": [],
   "source": [
    "response_get.json()"
   ]
  },
  {
   "cell_type": "markdown",
   "metadata": {},
   "source": [
    "---"
   ]
  },
  {
   "cell_type": "markdown",
   "metadata": {},
   "source": [
    "# Testing"
   ]
  },
  {
   "cell_type": "code",
   "execution_count": 13,
   "metadata": {},
   "outputs": [],
   "source": [
    "def is_jsonable(x):\n",
    "    try:\n",
    "        json.dumps(x)\n",
    "        return True\n",
    "    except (TypeError, OverflowError):\n",
    "        return False"
   ]
  },
  {
   "cell_type": "code",
   "execution_count": 40,
   "metadata": {},
   "outputs": [
    {
     "name": "stdout",
     "output_type": "stream",
     "text": [
      "True\n",
      "True\n",
      "True\n",
      "True\n"
     ]
    }
   ],
   "source": [
    "for key in data_database:\n",
    "    print(is_jsonable(data_database[key]))"
   ]
  }
 ],
 "metadata": {
  "kernelspec": {
   "display_name": ".venv",
   "language": "python",
   "name": "python3"
  },
  "language_info": {
   "codemirror_mode": {
    "name": "ipython",
    "version": 3
   },
   "file_extension": ".py",
   "mimetype": "text/x-python",
   "name": "python",
   "nbconvert_exporter": "python",
   "pygments_lexer": "ipython3",
   "version": "3.10.0"
  },
  "orig_nbformat": 4
 },
 "nbformat": 4,
 "nbformat_minor": 2
}
