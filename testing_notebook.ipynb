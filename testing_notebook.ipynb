{
 "cells": [
  {
   "cell_type": "markdown",
   "metadata": {},
   "source": [
    "# preamble"
   ]
  },
  {
   "cell_type": "code",
   "execution_count": 1,
   "metadata": {},
   "outputs": [],
   "source": [
    "########## PREAMBLE ###########################################################\n",
    "\n",
    "# general imports\n",
    "import openai\n",
    "import os\n",
    "import requests\n",
    "import json\n",
    "\n",
    "# import scripts\n",
    "from scripts import transcribe, process_transcript, check_response, prepare_yield_NOTION\n",
    "from prompts import prompts\n",
    "\n",
    "# declaring secrets\n",
    "from dotenv import load_dotenv\n",
    "load_dotenv()\n",
    "OPENAI_API_KEY = os.environ[\"OPENAI_API_KEY\"]\n",
    "NOTION_API_KEY = os.environ[\"NOTION_API_KEY\"]\n",
    "NOTION_DATABASE_ID = os.environ[\"NOTION_DATABASE_ID\"]\n",
    "\n",
    "# declaring static variables\n",
    "MAX_WHISPER_AUDIO_SIZE = 26262828\n",
    "\n",
    "MAX_CONTEXT_4K = 4097\n",
    "MAX_CONTEXT_16K = 4097 * 4\n",
    "\n",
    "MAX_BLOCK_SIZE = 2000\n",
    "\n",
    "# declaring dynamic variables\n",
    "AUDIO_FILE_PATH = \"./to_process/230922-AI_interview-Lisan.mp3\"\n",
    "THOUGHT = \"interview_english\""
   ]
  },
  {
   "cell_type": "code",
   "execution_count": 2,
   "metadata": {},
   "outputs": [
    {
     "name": "stdout",
     "output_type": "stream",
     "text": [
      "daily_reflection\n",
      "shower\n",
      "blog\n",
      "interview_nederlands\n",
      "interview_english\n"
     ]
    }
   ],
   "source": [
    "# print all Thought options\n",
    "for thought in prompts:\n",
    "    print(thought)"
   ]
  },
  {
   "cell_type": "markdown",
   "metadata": {},
   "source": [
    "# thought processing"
   ]
  },
  {
   "cell_type": "markdown",
   "metadata": {},
   "source": [
    "### transcription"
   ]
  },
  {
   "cell_type": "code",
   "execution_count": 3,
   "metadata": {},
   "outputs": [
    {
     "name": "stdout",
     "output_type": "stream",
     "text": [
      "Transcription started.\n",
      "Transcription finished!\n"
     ]
    }
   ],
   "source": [
    "print(\"Transcription started.\")\n",
    "transcript = transcribe(THOUGHT, AUDIO_FILE_PATH) # also deals with long audio files\n",
    "print(\"Transcription finished!\")"
   ]
  },
  {
   "cell_type": "code",
   "execution_count": 4,
   "metadata": {},
   "outputs": [
    {
     "data": {
      "text/plain": [
       "\"Oh, there we go. Okay. So, I'm trying to figure out just how people feel about AI. I'm not looking for any specific answers. So, I'm just going to ask you some leading questions. Just to get the conversation started. But feel free to talk about anything. And whatever pops up. So, just to start things off. Oh, friendly. Just to start off. What does AI mean to you? And how do you feel about it? So, AI. I would say... So, it's like an algorithm or software or whatever. Or a system that can learn. Okay. And then when they learn, they can apply their knowledge in a new domain. I think that would be AI to me. Because that's like learning for us as well. So, you learn stuff at school and then you can do it somewhere else. I think that should be artificial intelligence. And how I feel about it. Well, I have to say I don't have really strong feelings about it. Because I think AI... How do you feel about AI? I think it's still really, really broad. If you ask, I don't know, chat GPT. I'm very happy it exists because it makes my life easier. But I also know people that are scared of losing their jobs. Because a friend of mine, her mom, she writes child books. And she is really scared that her job won't exist like that anymore in ten years. Do you think so? Ten years? Maybe. Because if you have chat GPT now, in ten years it would be crazy. Capabilities. Capabilities, yeah. So, I don't think she won't be able to write books anymore. But I think she will have... I think maybe you and I would also be able to produce books for children. And I think then you just have so much more competition. And I don't think I would ever start producing books for children. Because, I don't know, for me it's not what I want. But I can imagine other people think like, oh, it's like low effort. I can sell them, this works, high reward. Yeah, why wouldn't you do it? Okay. More in general, what are your hopes? For AI? Yeah, your hopes and fears. Do you have some? I think I would be happy if it would make the world a better place, I guess. But that's maybe also a very broad answer. No, that's fine. But maybe... I think if AI could, for example, really support governments in making decisions. Because right now, I think, especially in the Dutch government, for every person in the second room in the parliament, I don't know, Chamber of Commons? Yeah, every ministry, how many people it has. They all have a chat GPT or an AI, anything that could support them with decision making. But then one that doesn't, that thinks about diversity and stuff. So, for example, the thing with the tax authorities wouldn't have happened. Because artificial intelligence would have been like, hey wait, this actually is not sound. You have a woman hides AI, you have diversity AI, you have different kinds of intelligence that think along. Yeah, especially think along. It doesn't have to be like a final decision, but just they check what we do. And how would you feel about artificial intelligence? I don't know if it's actually the case, but currently the idea to me is that with all people, we kind of decide what's happening. What if in that decision process, some mathematical models or some AI, if they also make democratic decisions, how would you feel about that? I think now I would feel really hesitant about it. But I can imagine that maybe in 5 or 10 years, AI has developed to such a state that it would actually not be weird or crazy. But I think now, I think we are not ready for it. I think people would go crazy if the prime minister would be like, okay guys, we're actually not doing elections this year, AI is going to decide. I think people need a feel of control to feel a little bit safe. A feel of control. Okay, that's interesting. In this last question, also in shaping the future of AI, do you think we should worry about that, about how we shaped it? Or is it something that is just going to happen naturally? I think it's going to happen if you're worried about it or not. I think you should still be critical of what you do, but I think AI is going to develop no matter what. How would you feel about institutes or citizen assemblies that get a say in how to shape AI? I think I would be in for that. I think that would be good. The difficult thing is, I don't know, if people are not knowledgeable on the topic, I think they should still express their concerns, but then how much do you take it into account? If people don't understand how it works, for example, and then they decide on it, I think then, yeah. That's not what you want. No, but I also don't want to exclude people just because they don't know what AI is. Yeah, but you said concerns, so you can include certain parts. Yeah. And how about you? Would you be interested in joining, if there becomes an Eindhoven or a Den Bosch? I think it really depends for me, because I think if it's AI, it feels really broad, so maybe the subgroups, because I don't know what to expect, if someone would be like, oh, we're going to talk about AI. I would be like, okay. But I wouldn't really know what it's all going to be about, if it's going to be about the ethics or just about the technology behind it. Okay. So I would like some more specific, I guess. Like more specific? Yeah, more specific. Okay, I think that we're basically there. Any final remarks? None that I can think of. No? Okay. Thank you for your time. Thank you.\\n\""
      ]
     },
     "execution_count": 4,
     "metadata": {},
     "output_type": "execute_result"
    }
   ],
   "source": [
    "transcript"
   ]
  },
  {
   "cell_type": "markdown",
   "metadata": {},
   "source": [
    "### transcript processing"
   ]
  },
  {
   "cell_type": "code",
   "execution_count": 5,
   "metadata": {},
   "outputs": [
    {
     "name": "stdout",
     "output_type": "stream",
     "text": [
      "Text processing started.\n",
      "Text processing succes!\n"
     ]
    }
   ],
   "source": [
    "print(\"Text processing started.\")\n",
    "text_response = process_transcript(THOUGHT, transcript)\n",
    "print(\"Text processing succes!\")"
   ]
  },
  {
   "cell_type": "code",
   "execution_count": 6,
   "metadata": {},
   "outputs": [
    {
     "name": "stdout",
     "output_type": "stream",
     "text": [
      "<class 'str'>\n"
     ]
    },
    {
     "data": {
      "text/plain": [
       "'{\"title\": \"Een gesprek over AI, onderwijs en ethiek\", \"samenvatting\": \"In dit gesprek wordt AI besproken, evenals de mogelijke impact ervan op jongeren en ouderen. Er wordt onder andere ingegaan op de rol van AI in het onderwijs, de veranderingen die het teweegbrengt in de maatschappij en de ethische aspecten ervan. Bram, de gesprekspartner, vertelt over zijn persoonlijke ervaringen met AI en zijn onderzoek naar ethiek in AI.\", \"onderwerpen\": [\"AI\", \"onderwijs\", \"ethiek\", \"verandering\", \"jongeren\", \"ouderen\", \"expertise\", \"tips\"]}'"
      ]
     },
     "execution_count": 6,
     "metadata": {},
     "output_type": "execute_result"
    }
   ],
   "source": [
    "print(type(text_response[\"choices\"][0][\"message\"][\"content\"]))\n",
    "text_response[\"choices\"][0][\"message\"][\"content\"]"
   ]
  },
  {
   "cell_type": "markdown",
   "metadata": {},
   "source": [
    "### check data Notion"
   ]
  },
  {
   "cell_type": "code",
   "execution_count": 7,
   "metadata": {},
   "outputs": [],
   "source": [
    "content_notion = check_response(text_response)"
   ]
  },
  {
   "cell_type": "code",
   "execution_count": 8,
   "metadata": {},
   "outputs": [
    {
     "data": {
      "text/plain": [
       "{'title': 'Een gesprek over AI, onderwijs en ethiek',\n",
       " 'samenvatting': 'In dit gesprek wordt AI besproken, evenals de mogelijke impact ervan op jongeren en ouderen. Er wordt onder andere ingegaan op de rol van AI in het onderwijs, de veranderingen die het teweegbrengt in de maatschappij en de ethische aspecten ervan. Bram, de gesprekspartner, vertelt over zijn persoonlijke ervaringen met AI en zijn onderzoek naar ethiek in AI.',\n",
       " 'onderwerpen': '- AI\\n- onderwijs\\n- ethiek\\n- verandering\\n- jongeren\\n- ouderen\\n- expertise\\n- tips\\n'}"
      ]
     },
     "execution_count": 8,
     "metadata": {},
     "output_type": "execute_result"
    }
   ],
   "source": [
    "content_notion"
   ]
  },
  {
   "cell_type": "markdown",
   "metadata": {},
   "source": [
    "### upload to Notion"
   ]
  },
  {
   "cell_type": "code",
   "execution_count": 9,
   "metadata": {},
   "outputs": [
    {
     "name": "stdout",
     "output_type": "stream",
     "text": [
      "Processed text uploading succesful!\n"
     ]
    }
   ],
   "source": [
    "url = \"https://api.notion.com/v1/pages/\"\n",
    "\n",
    "headers =   {\n",
    "    \"Authorization\": f\"Bearer {NOTION_API_KEY}\",\n",
    "    \"Notion-Version\": \"2022-06-28\",\n",
    "    \"Content-Type\": \"application/json\"\n",
    "            }\n",
    "\n",
    "data_database = prepare_yield_NOTION(THOUGHT, NOTION_DATABASE_ID, MAX_BLOCK_SIZE,\n",
    "                                     content_notion, transcript)\n",
    "\n",
    "response_get = requests.post(url, headers=headers, json=data_database)\n",
    "print(\"Processed text uploading succesful!\")"
   ]
  },
  {
   "cell_type": "code",
   "execution_count": 10,
   "metadata": {},
   "outputs": [
    {
     "data": {
      "text/plain": [
       "{'object': 'page',\n",
       " 'id': 'f2869a73-5a32-4d2f-bc07-e9baf71e85ec',\n",
       " 'created_time': '2023-09-19T06:02:00.000Z',\n",
       " 'last_edited_time': '2023-09-19T06:02:00.000Z',\n",
       " 'created_by': {'object': 'user',\n",
       "  'id': 'dc664599-409b-4fbc-b638-fa34c238bb19'},\n",
       " 'last_edited_by': {'object': 'user',\n",
       "  'id': 'dc664599-409b-4fbc-b638-fa34c238bb19'},\n",
       " 'cover': None,\n",
       " 'icon': {'type': 'emoji', 'emoji': '🎙️'},\n",
       " 'parent': {'type': 'database_id',\n",
       "  'database_id': 'e5568bc0-5015-4ec7-bd8c-ba5050353de6'},\n",
       " 'archived': False,\n",
       " 'properties': {'Created time': {'id': 'BAiK',\n",
       "   'type': 'created_time',\n",
       "   'created_time': '2023-09-19T06:02:00.000Z'},\n",
       "  'Thought': {'id': 'FIsG',\n",
       "   'type': 'select',\n",
       "   'select': {'id': 'd2e94385-4795-46bb-979a-300e8a1389c4',\n",
       "    'name': 'nederlands',\n",
       "    'color': 'orange'}},\n",
       "  'Name': {'id': 'title',\n",
       "   'type': 'title',\n",
       "   'title': [{'type': 'text',\n",
       "     'text': {'content': 'Een gesprek over AI, onderwijs en ethiek',\n",
       "      'link': None},\n",
       "     'annotations': {'bold': False,\n",
       "      'italic': False,\n",
       "      'strikethrough': False,\n",
       "      'underline': False,\n",
       "      'code': False,\n",
       "      'color': 'default'},\n",
       "     'plain_text': 'Een gesprek over AI, onderwijs en ethiek',\n",
       "     'href': None}]}},\n",
       " 'url': 'https://www.notion.so/Een-gesprek-over-AI-onderwijs-en-ethiek-f2869a735a324d2fbc07e9baf71e85ec',\n",
       " 'public_url': None}"
      ]
     },
     "execution_count": 10,
     "metadata": {},
     "output_type": "execute_result"
    }
   ],
   "source": [
    "response_get.json()"
   ]
  },
  {
   "cell_type": "markdown",
   "metadata": {},
   "source": [
    "---"
   ]
  },
  {
   "cell_type": "markdown",
   "metadata": {},
   "source": [
    "# Testing"
   ]
  },
  {
   "cell_type": "code",
   "execution_count": 13,
   "metadata": {},
   "outputs": [],
   "source": [
    "def is_jsonable(x):\n",
    "    try:\n",
    "        json.dumps(x)\n",
    "        return True\n",
    "    except (TypeError, OverflowError):\n",
    "        return False"
   ]
  },
  {
   "cell_type": "code",
   "execution_count": 40,
   "metadata": {},
   "outputs": [
    {
     "name": "stdout",
     "output_type": "stream",
     "text": [
      "True\n",
      "True\n",
      "True\n",
      "True\n"
     ]
    }
   ],
   "source": [
    "for key in data_database:\n",
    "    print(is_jsonable(data_database[key]))"
   ]
  }
 ],
 "metadata": {
  "kernelspec": {
   "display_name": ".venv",
   "language": "python",
   "name": "python3"
  },
  "language_info": {
   "codemirror_mode": {
    "name": "ipython",
    "version": 3
   },
   "file_extension": ".py",
   "mimetype": "text/x-python",
   "name": "python",
   "nbconvert_exporter": "python",
   "pygments_lexer": "ipython3",
   "version": "3.10.0"
  },
  "orig_nbformat": 4
 },
 "nbformat": 4,
 "nbformat_minor": 2
}
