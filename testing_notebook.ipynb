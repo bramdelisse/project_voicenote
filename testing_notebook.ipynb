{
 "cells": [
  {
   "cell_type": "markdown",
   "metadata": {},
   "source": [
    "# preamble"
   ]
  },
  {
   "cell_type": "code",
   "execution_count": 1,
   "metadata": {},
   "outputs": [],
   "source": [
    "########## PREAMBLE ###########################################################\n",
    "\n",
    "# general imports\n",
    "import openai\n",
    "import os\n",
    "import requests\n",
    "import json\n",
    "\n",
    "# import scripts\n",
    "from scripts import transcribe, process_transcript, check_response, prepare_yield_NOTION\n",
    "from prompts import prompts\n",
    "\n",
    "# declaring secrets\n",
    "from dotenv import load_dotenv\n",
    "load_dotenv()\n",
    "OPENAI_API_KEY = os.environ[\"OPENAI_API_KEY\"]\n",
    "NOTION_API_KEY = os.environ[\"NOTION_API_KEY\"]\n",
    "NOTION_DATABASE_ID = os.environ[\"NOTION_DATABASE_ID\"]\n",
    "\n",
    "# declaring static variables\n",
    "MAX_WHISPER_AUDIO_SIZE = 26262828\n",
    "\n",
    "MAX_CONTEXT_4K = 4097\n",
    "MAX_CONTEXT_16K = 4097 * 4\n",
    "\n",
    "MAX_BLOCK_SIZE = 2000\n",
    "\n",
    "# declaring dynamic variables\n",
    "AUDIO_FILE_PATH = \"./to_process/230901-geluidsopname_gesprek_youri.mp3\"\n",
    "THOUGHT = \"nederlands\""
   ]
  },
  {
   "cell_type": "code",
   "execution_count": 2,
   "metadata": {},
   "outputs": [
    {
     "name": "stdout",
     "output_type": "stream",
     "text": [
      "daily_reflection\n",
      "shower\n",
      "blog\n",
      "nederlands\n"
     ]
    }
   ],
   "source": [
    "# print all Thought options\n",
    "for thought in prompts:\n",
    "    print(thought)"
   ]
  },
  {
   "cell_type": "markdown",
   "metadata": {},
   "source": [
    "# thought processing"
   ]
  },
  {
   "cell_type": "markdown",
   "metadata": {},
   "source": [
    "### transcription"
   ]
  },
  {
   "cell_type": "code",
   "execution_count": 3,
   "metadata": {},
   "outputs": [
    {
     "name": "stdout",
     "output_type": "stream",
     "text": [
      "Transcription started.\n",
      "Whisper file size limit exceeded. \n",
      "    > File size: 128099044\n",
      "exporting chunk_001.mp3\n",
      "exporting chunk_002.mp3\n",
      "exporting chunk_003.mp3\n",
      "exporting chunk_004.mp3\n",
      "Transcription finished!\n"
     ]
    }
   ],
   "source": [
    "print(\"Transcription started.\")\n",
    "transcript = transcribe(THOUGHT, AUDIO_FILE_PATH) # also deals with long audio files\n",
    "print(\"Transcription finished!\")"
   ]
  },
  {
   "cell_type": "code",
   "execution_count": 4,
   "metadata": {},
   "outputs": [
    {
     "data": {
      "text/plain": [
       "\"AI, daar ben jij veel mee bezig. Ja, zeker. Kan je daar wat over vertellen waar je nu precies mee bezig bent? Of hoe je misschien bij AI terecht gekomen bent, dat is misschien ook wel een interessante vraag. Oké, ik kan me een klein stukje voorstellen en dan een klein stukje hoe ik bij AI ben gekomen en waar ik dan nu mee bezig ben. Voor mijn verwachting is het minstens een half uurtje ofzo. Ja, kijk hoe lang het is. Op zich kan ik lekker doorpraten, ik heb geen strakke planning, maar een half uurtje lijkt me mooi toch? Ik ben pas 26 jaar zo, heel veel heb ik ook nog niet meegemaakt. Maar ik denk dat je er misschien wel drie uur over zou kunnen vertellen. Ik ben Bram, ik kom uit Os. Natuur en techniek vond ik vanaf jongs af aan super vet. Natuurkunde vond ik het leven altijd wel getrokken. Hoe werkt het meest fundamentele, het universum. Toen heb ik twee jaar veel op sport geëcht, in Amerika gestudeerd. Teruggekomen, hier in Eindhoven natuurkunde gedaan. Applied physics, dat was vet. Maar te abstract voor mij. Ik wilde toch iets meer bij de mensen. Je zit echt in dementies en algebaren. Een stapje dichter bij de mensen. Toen vond ik via Data Science & Entrepreneurship in Den Bosch. Een samenwerking tussen Eindhoven en Tilburg. Daar kwam voor mij heen nog steeds een beetje wiskunde. Ik wist eigenlijk niet echt wat Data Science was. Maar iets dichter bij de mensen, vet, gaan we doen. Dus daar gekomen. Daar kwam ik achter dat ik eigenlijk nog heel weinig van computers wist. Ik dacht, ik ben jong, ik weet hoe mijn telefoon werkt. Dus ik weet best goed hoe computers werken. Ik had geen idee wat de cloud was. Ik kwam er na een half jaar achter van, ik had echt de overtuiging dat de cloud gewoon in de lucht zat. Maar nee, dat zijn gewoon services in Rotterdam of in Londen of ergens. Dat zijn gewoon grote loods met computers. Ik had eigenlijk helemaal niet door hoe zo'n computer eigenlijk werkt. Dus ik heb daar heel veel geleerd over het landschap computers. En van niks echt de diepte geleerd. Maar wel, denk ik, best goed het hele landschap. Oké, dan ga je richting I.M.A.S.T.E.R. En dan ga je toch een beetje specialiseren. Wat vind je nou vet? En toen ben ik iets meer de AI ingehaald. Wat is AI? Kunnen we er nog heel lang over hebben, want dat is best een, vind ik, een beetje een lege term geworden. Dat het overal gebouwd wordt en gegooid wordt. Hoge marketingwaarden, dus we zetten het overal neer. Oké, maar toen ben ik iets meer machine learning vond ik wel interessant. We kunnen er later ook nog over hebben wat de verschillen zijn tussen machine learning en AI. En toen ben ik voor mijn thesis, en dat is waar ik dan nu mee bezig ben, ben ik uiteindelijk met language models aan de slag gegaan. En dat is het wiskundige model achter Chachabitty. En ik vind ethiek ook heel gaaf. Ethiek en filosofie is al lang een hobby geweest. En je hebt nu een groot debat in de wereld over AI, is het veilig? En dat debat vind ik interessant. Dus ik ben met mijn thesis die kant op gegaan. Met mijn thesis probeer ik nu een language model, zoals hij nu is, een wiskundig model, probeer ik een ethische filosofie, die al eerder door een hele slimme vrouw bedacht is, probeer ik in te bouwen. Fundamenteel onderzoek, ik probeer iets en ik ga meten of het effect heeft. En doe je dat in een team, doe je dat samen met? Ja, met twee bevrijders. En je schrijft wel kort aan dat wat AI is, dat dat al een moeilijke vraag is. En als je het inderdaad op internet opzoekt, dan kom je wel op een beschrijving uit. Maar ik ben heel benieuwd, hoe zou jij het in je eigen woorden omschrijven? Of weet je dat al? Is dat? Nee, dat lukt me nu wel denk ik. Want dat heb ik wel veel vandaag gedaan. AI staat voor artificiële intelligentie. Dus om AI te kunnen gebruiken als woord, moet je eigenlijk weten wat is artificieel en wat is intelligentie. Artificieel, denk ik even straightforward, is iets dat niet door evolutie hier is gekomen. Maar iets dat, ik zou kunnen argueren dat apen ook iets artificieels kunnen maken. Maar het zijn vooral mensen, die laptop is artificieel, dat is een ding die wij zelf maken. Wat is intelligentie? Dat is een hele moeilijke vraag. Een simpele, oversimplified denk ik, maar een fijne definitie vind ik, je environment kunnen processen in order to achieve an autonomous determined goal. Dus, ok, let's unpack that. I define intelligence a bit like, that you can determine a goal yourself. There is a certain autonomy in it. And then, from your environment, you can process what is necessary to achieve that goal. If you are thirsty, you see coffee, then that's it. With us, that's already very deep. We can talk about intelligence for a long time. I think that only since language models, chat GPT level, for my feeling of, hey, now we have achieved something that you can call AI. Because, we talked about it briefly and then you said that you can sometimes use it for creative processes. It comes with new ideas, given the context that you give. And of course, a language model still lives in language environment. You only know words. So, that's still a bit, if you say, go get milk for me, that's not possible. But, give arms and legs. And then it might get a little further. So, that's almost more mechanical limitation than an intelligence. So, how do I see AI? It's a very vague concept. And something that is difficult to define. But something that we are getting closer to for the first time. I think it's nice that you split it apart. So, if you describe artificial intelligence. And if you add them together, then you would say something that is made and contains the intelligence that you just described. But I also hear that we still have to put that intelligence into it. Like you said, you can use it for creative processes, but you still have to give that input. Do you think that's always necessary for artificial intelligence? That we still have to put that intelligence into it? Or are we already at a point where we already have that input? And are we going there more and more? How do you see that? That's a very good question. First of all, at the moment, no. I'll take ChatGPT, but you have different language models. That's the model behind it. And Tropic is a big company that is working on it. Google is working on it. But let's use ChatGPT, everyone knows that. And a little bit of theory then. What does a language model do? It models language. And what it does, it reads 100,000 books. And then the only thing it looks at is a given number of words. What is probably the next word? That's the only thing it does. So you give it 20 words, that's probably the next word. And then I have 21, that's probably it. And based on that, a lot comes out. If you look at it scientifically, you think that's the only way it works. Because we first put 100,000 examples in it. And then we only have to decide the next word. On the other hand, what do people do? I have knowledge because I went to school. Because I had all kinds of examples. When I was isolated on Earth, I was a lot less smart than I am now. A lot less intelligent, I think. So no, I don't think that AI can do anything now if you put it on the market. And I think we're just getting started on that. But yes, are people that? Yes, that's a good point. Because as a human being, you also need input from others. Just like AI needs input. And probably will always need it. Because you hear that in the future, right? That AI will create its own consciousness. And that as a human being, that will be the next step in evolution. That's what you hear from time to time. Have you heard that? I didn't know that all the popular media was going to do that. I read about it in preparation for this interview. I know that story. But how do you see the future? It's a very difficult question. And there are all kinds of opinions about it. But how do you see it from your point of view? Because you're doing a lot of research and you've thought about it a lot. Do you have an idea about it? Now it's becoming a real philosophy. And also a bit... Nobody knows this, I think. I don't think that... I don't think that... Let's see. What are we talking about? Whether AI, artificial intelligence, can create its own consciousness. That might be the next step. Personally, I really like people. And I think... I don't know if you're a humanist, but in my head, people are central. We need a healthy brain for that. We can enjoy that. So let's take care of that. But... I would always do my best to make sure that... AI ensures that we have a beautiful life. The question of consciousness is very difficult. Maybe it's because... At least, I really like people. And when I speak for myself... I really like people because I can relate to people. Because we have empathy, I think. We can empathize with other people. I think that's also because we experience emotions. But can you imagine a world where AI also has those emotions? So just like you love people... you can also love AI in that way. I believe that within 10 years... we will be the first people to marry an AI. But those will be edge cases. Because you already have examples of people who speak with their language model... and suddenly feel understood. But I think that's more an internal thing with that person. That it finds in that language model... than that that language model has love in return. I think that people have something special. And I can't name it. I'm not a biologist. We have so much more. We have memories. We can live in the moment. A language model can only predict the next token. But I think that intelligence is... Intelligence is not one unit... that you don't have, do have or half have. We are also a combination of everything. We have our brains. And that's everything. I'm not a neuroscientist. But I think you have a front part and a back part. Parts where you don't have any consciousness... but which regulate all your motor skills. It all goes automatically. You have to make hormones and those feelings. How I try to see AI... is that language models are step 0.1. Theoretically. We choose where we want to go. But theoretically it's step 0.1. And it can do logic very well. What do you mean by 0.1? Like the first computer in 1960. And now we have a phone... with which you can stream in 4K. In the story of AI... and what is possible... I think we are at the very beginning. And now we have built a piece of intelligence... which can hypnotize very well. And which can do logic well. Chetjip is really good at... this is the situation. Is this sensible or not? He's pretty good at it. But Motorik not yet. But I do see that we can build another piece of it. Which we can connect. Like with humans. And who knows, maybe we'll get an emotion piece. So... Language models... I don't see them getting a feeling. But I do see it theoretically possible that you... build something that always... Actually it depends on the question. Emotions and feelings. Is it because of carbon? Or is it something we...\\nIk weet het niet. Excited? Of maak je daar een bepaalde emotie bij? Meerdere. Mijn eerste reactie was spannend. Een beetje hoe in november. Ik probeer het een beetje bij te houden op mijn blogje. Ik merk dat het best wel switched. Hoe heet je blog? Bram Delisse. Dat is mijn website en bovenaan staat mijn blog. Dus daar probeer ik af en toe een beetje gedachten in bij te houden. Omdat ik merk dat het switched. Ik ben op het moment hoopvol. Waar ik het meest bang voor ben, is... Je hebt een klein stukje in de AI-wereld waar je heel erg bang is voor. Dat AI een eigen wil krijgt en los van de mens dingen gaat doen. Ik heb nog geen argument gehoord dat het me echt overtuigt. Waar we meer voor moeten oppassen, is hoe wij mensen ermee omgaan. Want dit gaat wel voor grote verandering zorgen. Verandering gaat al snel op het moment. Dat is ook moeilijk voor mensen. Je hebt de ongelijkheid. Hoe ga je voorkomen dat... Het gaat heel krachtig zijn. Het gaat enorm powerful zijn. Als jij een AI-assistent hebt. Hoe gaat dat zorgen voor de machtsverhouding in de wereld? We hebben de meaning crisis. Een gevoel van purpose. Veel mensen halen meaning uit hun werk. Uit wat zij bijdragen aan de maatschappij. Als een computer daar beter in gaat zijn. Waarvoor ben je er dan nog? Ik denk dat daar een antwoord op is. To enjoy life. Ik denk niet dat we dat fundamenteel uit het werk zouden moeten halen. Maar er zijn wel dingen waar we over na moeten denken. Dat zijn meer discussies die we moeten voeren. Dan gaat AI naar eigen beeld. Dat is nog wel even ver weg. Dit is meer passing. Dan hebben we het over een stukje ethiek. Waar je het in het begin over had. Dat je daar veel mee bezig bent. Laatst was het nieuws dat de grote bazen van de grote techbedrijven. Die de AI maken, waarschuwden in een soort van essay. Voor alle gevaren en misschien wel apocalyptische gevaren. Die AI met zich meebrengt. Had je een mening over dat statement? Door die pause? Ja, er was een soort van brief. Wat ook ondertekend was. Volgens mij ook onder andere. Hoe heet hij? Elon Musk. Waarin dus de wereld werd gewaarschuwd. Voor de gevaren die AI met zich meebrengt. Had je daar een mening over? Ik heb hem ondertekend. Als we het over dezelfde brief hebben. De vraag om zes maanden te stoppen. Met het verhogen van de capabilities van language models. Dus er mag nog wel gewerkt worden aan safety en aan implementatie. Maar laten we stoppen met ze nog slimmer maken. Ik denk in het algemeen. Ik heb die ondertekend. Maar niet per se omdat ik voor AI. Voor AI specifiek. Maar ik denk meer dat het. Dit is economisch politiek meer. Dat het goed is om met z'n allen. Niet alleen te focussen op het beste beter maken. Maar laten we ook even denken over wat is de impact van dingen. En hoe kunnen we dingen die er nu zijn verdelen. Ja. Ik ben een beetje benieuwd. Ik zou dit ook tekenen voor de auto-industrie. In plaats van nog sneller auto's maken. Laten we ze eerst zuiniger maken. Ik zou dit voor heel veel. En ik vond het gewoon een heel vet idee. Ik wijt een beetje uit nu. Maar ik denk dat een van de grote uitdagingen van de komende tijd. 10, 20 jaar gaat zijn. Gaat ons lukken om als hele wereld samen te werken. Dat zou ik heel vet vinden. En hoe vet is het. Dit zou een van de primeurs zijn. Als we gewoon met z'n allen opsluiten. We gaan zes maanden niet dit doen. Wat voor een kamraadschap. Wat voor een bonding moet dat zijn. Dus dat waren het meerdere redenen waarom ik dat wilde tekenen. Ja, met z'n allen iets willen of ergens achterstaan. Je ziet het ook met het klimaatrecord toch. Even heel even op m'n fransesestraatje in te nemen. Dan hoor je ook vaak van ja, wij in het westen kunnen daar allemaal wel achterstaan. Maar we hebben ook nog een land als China of Rusland die zich daar misschien niks van aantrekt. Is dat ook iets wat in de AI misschien een rol kan spelen? Ja, ook daar weer. Nu wordt het iets politieker. Maar volgens mij is Amerika. Ik ben hier geen expert in. Dus neem alles wat ik nu zeg met een korrel zout. Maar volgens mij is Amerika niet zo happig op dingen vertragen van China. Ja, dat vind ik ook een moeilijke argument. Ja, ik vind het ook een hele moeilijke argument. 4 by example. Allright, laten we dat doosje weer even dicht doen. En laten we zometeen ook nog even doorgaan op de ethiek. Want dat vind ik ook echt wel heel interessant. En ook wat jij daarvan vindt. Misschien ook wel het verschil daarin. Wat jij misschien ook ziet tussen verschillende generaties. Want we zitten natuurlijk voor jong en je-wil-wat. En we willen graag de stem van de jongere generatie laten horen. Maar laten we heel even teruggaan naar misschien wat meer de basics. En kijken van hoe gebruik jij op een moment AI of de vormen daarvan. Zoals chat GPT in het dagelijks leven. Veel. Ik was dus eerst even een beetje huiverig in november. Ik deed mijn thesis in het onderwerp. En het kwam tegelijk maar dat ik mijn thesis begon. En het is natuurlijk gemaakt om te helpen met schrijven. Dus dat is een thesis. Dus ik was in het begin een beetje huiverig. Maar ik gebruik het nu veel. Als we even heel praktisch gaan. Ik heb chat GPT. Heb ik een betaalde abonnement. Dus de GPT-4. Die gebruik ik voor echt veel. Met programmeren. Heel veel concrete vragen. Explain this error. Dus als een vervanging van Google. Daar gebruik ik het veel voor. Maar daar zit het ook nog wel eens fout. Maar dat weet ik. Als je al de richting hebt, helpt dat. Dan kun je gerecht googlen. Ik gebruik het voor als ik geen zin heb om na te denken. Give me five vegan recipes from the Mexican kitchen. Ja heerlijk. Dan komen er vijf ideeën. Oh en dan begint het te rollen. Oh I like this one. Give me a list of ingredients. Ja aan het eerst ging ik naar Alpenheinen. Dan ging ik scrollen. En daar zit het goed in. Verder gebruik ik. En dan wordt het iets technischer. Ik begin beter te worden in prompt. Is het stukje tekst dat je als eerste stuurt. Eigenlijk. Een soort van het commando. Daar begin ik iets beter in te worden. Dus ik had laatst een prompt. Ik weet niet of die nog open staat. Maar toen ging ik proberen GPT te gebruiken als job coach. Ik ben nu veel bezig. Wat wil ik in mijn werk doen later. Dan staat die open. Ook op mijn website trouwens. Op diezelfde pandemie ben ik een lijstje aan het bijhouden. Dat zijn er nu pas een paar. Maar van interessante prompts. Dus dat zijn dan best wel paragrafen aan tekst. Die je er heen stuurt. En ik kan hier even een voorbeeld geven. Practical Use of Language Models heet het. Hier. Wider Self-Learning Plan. Ik zou hem niet helemaal voorlezen. Maar dit was voor mijn vriendin. Ze doet microbiologie en wilde meer leren van natuurkunde en scheikunde. Leuk, maar waar begin je dan? Dus ik heb hem mooi in een paragraaf uitgelegd. I am a master student in microbiology. I want to learn for my field interesting and important physics and chemistry. En dan leg ik uit waar ik open voor sta. Dat ik niet wil dat het geld kost. Dat het duidelijk moet zijn in welke concepten belangrijk zijn voor mijn veld en waarom. And then write a learning plan for me to achieve maximum useful learning. While spending only one day a week on learning for 10 months. Kwam een prachtig program uit met YouTube links en met planning. Dus ook voor dat soort dingen. En dan het laatste ding waar ik nog voor gebruik is. Je kan ChatGPT ook in je applicatie bouwen. Dus nu wordt het iets technischer. Maar als hobbyproject ben ik een app aan het maken. Het is allemaal heel crappy. Waarin je een spraakberichtje stuurt. En die wordt dan automatisch naar ChatGPT gestuurd. Wordt die opgeschreven voor je. En dan geef ik een paar vragen mee. Dus ik zeg, vat het samen. List the topics. And imagine being a critical life coach. Ask me three questions. En die zijn vaak goed. Dan heb ik zo'n mooi verhaal. Of ik heb een idee voor een project. En dan krijg ik de vraag van, heb je hier tijd voor? En dan krijg ik de vraag van, oké als je hier zo mee wil beginnen, wat is stap 1? Dus ik begin het ook te gebruiken als iemand die meedenkt. Ja, zodat je aan het nadenkt. Het is eigenlijk een sparringspartner in die zin. Mooi. Maar ik wou zoveel. Ja, nice. En jij zit natuurlijk helemaal in de AI. En je weet je weg, denk ik, al heel goed te vinden. Zeker voor iemand van 26. Ik heb eigenlijk twee vragen. Wat vind je van de oudere generatie die huiverig is voor misschien wel het gemak wat AI brengt voor studenten. Dus in de zin van een heel praktische middelbare scholier die zijn huiswerk maakt. En die ChatGPT gebruikt om een verslag te schrijven over de Tweede Wereldoorlog. En misschien daar wel letterlijk dingen van overneemt wat ChatGPT hem stuurt. Eigenlijk het moderne speaken of het moderne overschrijven. Wat vind je van die zorgen? Heel tight. Dat is denk ik ergens ook wel de taak van mensen met meer ervaring. Ik had laatst toevallig met een paar vrienden een hele interessante brainstorm over AI en educatie. En waar we toen een beetje op uitkwamen was, wat doet het nou voor je? Een hekenmachine is best duidelijk. Die doet hekenen. En daar is iedereen blij mee, denk ik. Niemand wil 1200 keer 2.340 en daar moet je wat van doen. Maar, ook met mijn natuurkundeachtergrond zie ik wel het belang van het een paar keer met de hand hebben gedaan. En weten wat er gebeurt. En dat een beetje begrijpen. Cool, oké, ga daarna naar die hekenmachine. Dan hoef je niet meer te doen. Ik denk dat ChatGPT hetzelfde is. Wat doet het? Het doet samenvatten, het doet kritisch nadenken, het doet schrijven. En schrijven is ook voor een groot deel je gedachten ordenen. Dat zijn vermoeiende processen. Die fijn zijn om af en toe te outsourcen. Maar ik denk wel kritieke processen in gewoon een functionerend gezond mens. Dus die moet je denk ik ook begrijpen en oefenen zonder hulp. Maar het is wel fijn om die hulp te hebben. En dan is het denk ik fijn om dat in school ook al te laten zien. Dus met mijn gele achtergrond in educatie. Waar ik mee kwam was, ja het is een tool, ook in educatie. Maar je unlockt hem laat. Je master, maar je master dan ga je meteen alleen over universiteiten. Dat kan natuurlijk niet. Dus in ieder geval na de middelbare. Maar ja, wat is dat niet? Na de middelbare doorgaat het in ieder geval vrij laat. Of misschien eind middelbare dat je daar ook klasjes mee krijgt. En dat je denk ik echt op deze manier brengt. Dat je, en dat is dan ook aan de oudere generatie om na te denken. Wat zijn eigenlijk de processen die het vervangt of wat het mee helpt. En hoe geven we dat nog eerst zonder. Ik denk als je daar dan een soort van duidelijk beeld mee geeft aan de studenten. Dan heb ik er wel van te houden dat dat op een verantwoorde manier gebruikt wordt. En als we bijvoorbeeld even kijken naar de middelbare school. Want ik denk dat ook kids op de middelbare school die gebruiken dat JetCPT. Hoe zouden we, heb jij tips of ideeën voor onderwijs?\\nHet Engels getranscribeerd wordt in het Nederlands getranscribeerd, maar het Nederlands getranscribeerd wordt in het Engels getranscribeerd, maar het Engels getranscribeerd wordt in het Nederlands getranscribeerd. Je geeft een commandem in taal, daar is de gemiddeld persoon van 40 beter dan de gemiddeld persoon van 16. Want Chercheby wordt krachtig wanneer je een duidelijk helder plan geeft. Dus in dat opzicht denk ik dat bij deze technologie die jongeren niet per se zo'n voordeel hebben. Je moet gewoon in de tekst iets schrijven. Misschien iets vertrouwder zijn met het scherm interactie, dat kan helpen. Maar dan hoe je dat op de middelbare doet. Ja moeilijk en waar ik ook misschien een gevaar in zie is, het is weer een verleiding ofzo. Er zijn zoveel dingen die fijn en makkelijk zijn, maar verstandig om even niet te doen. En dan kun je het hebben over Instagram scrollen, maar ook over je rapport schrijven in Chercheby. Misschien als jij 30 bent, ben je zelf dankbaar als je dat niet hebt gedaan. Dat zijn best wel moeilijke keuzes om te overzien. En het is wel gewoon heel krachtig. En kijk, alcohol, misschien is het een vreemde vergelijking, maar leuk, krachtig, kan veel brengen. Je moet er ook verantwoordelijk mee om kunnen gaan. Dus dat unlocken we als je 18 bent. Nu wordt het meer politiek dan educatie, maar is zoiets ook mogelijk? Dat zijn interessante vragen denk ik. Want hoe ga je iemand van 14 uitleggen dat het beter is om het zelf te typen, dat is moeilijk. En heb je dan misschien tips voor iemand van 15? Ik vind het wel interessant. Heb je concrete tips voor zo iemand om het op een goede manier te gaan gebruiken? Oeh, dat is echt een goede vraag. Daar heb ik nog niet eerder over nagedacht. Ehm. Het is sowieso even geleden dat ik met iemand van 15 echt een debt heb geïnvesteerd. Je bent zelf ook 15 geweest. Ja, ja, maar dat is wel goed om eerst te doen. Dat zou ik wel leuk vinden, om weer met die mensen te praten. Tips. Dus. Eigenlijk het. Ehm. Ja. Tips weet ik niet. Ik zou de vraag stellen misschien van. De vraag voor jezelf of welke rol het vervult. Is misschien best een moeilijke vraag. Hm. Ehm. Zoals je zei, de input is ook belangrijk toch? De vragen die je. Doe je praktische tips voor hem? Ja, misschien wel. Want de praktische tips zijn misschien voor jongeren in die zin de eerste stap toch? Om het uiteindelijk dan op een wat hoger level te begrijpen. Gewoon, ik kan me voorstellen dat iemand van 5 minuten zijn laptop open. En die hoort van iemand chat GPT en die tikt dat in. En die ziet dat zo voor zich. En die kan van alles daarin typen toch? Die kan. Ja, praktische tips heb ik wel. En dat is. Ik ben het duidelijk. Ja. Ehm. In commando's. Ja, je hebt prompt. Het heet prompts. Prompt engineering. Dat is de kunst van een duidelijke promptschrijver. Hm. Dus als je dan een keer googelt, dan krijg je al veel blogs die vertellen hoe je het beter kan gebruiken. Wat ik merk is dat om hulp te krijgen. Bijvoorbeeld van net, ik gaf een tijdje geleden een voorbeeld van schrijven een learning plan. Het werkt. Houd een learning plan. Werkt niet. Hij gaat alle kanten op. Dit is misschien een tip. Chat sheet, die zou nooit zeggen ik weet het niet. Er komt altijd, altijd response. Dus een gevaar is dat het. En grammaticaal ziet het altijd goed uit. Dus het is moeilijk de bullshit te filteren. Dat is denk ik de key. En als je een hele duidelijke opdracht geeft, dan krijg je ook een goed antwoord. Geef je een onduidelijke opdracht, dan probeert hij gewoon niets. En laat je het heel zeker klinken. Dus je zal altijd, je kan gewoon meerdere commandos meegeven. Ik ben niet bang voor een grote plant. Dus je kan meegeven, please. In Nederlands werkt het me zo op. Maar ik geef het duidelijk aan. Belangrijk, geef duidelijk aan. Wanneer je niet zeker bent van je output. Zoiets kun je echt meegeven. Oké. En het is conversational. Dus hij onthoudt, of zij. Het onthoudt het gesprek. Dus je kan een eerste prompt geven. Zeggen, hide the learning plan. En dan als jij ziet van, dit is te lang. Dan kun jij zeggen van, it's too long, please make it shorter. En dan kun je zo nudgen. Kun je het een paar keer proberen tot het steeds beter wordt. En wat je dan nog zou kunnen proberen, als je denkt, nu zitten we in de buurt. Dat je even door je gesprek scrolt. Kijk, wat heb ik nou eigenlijk gezegd. En daarvan een nieuwe duidelijk verhaal probeert te maken. Dat je dan in een nieuwe chat begint. Met alle dingetjes die je geleerd hebt. Dus zorg dat het kort is. Het zal wel kritisch zijn op datgene wat JGPT je geeft. Maar vandaar dus ook kritisch zijn op wat je er zelf in hebt gestoken. Dat doet veel. Ja. Ik denk dat het meer waardevol is om. En zeker als je echt een learning plan wil maken. Zeg maar, wat grotere opdrachten. Kom met recepten, dan doe maar wat. Maar wat grotere opdrachten. Dan kun je best 10 minuten spenderen op een duidelijk commando geven. Dus probeer wat en dan kom je erachter. Ik tenminste, wat wil ik eigenlijk. I have a year, 10 months, I don't know. Zou je zelfs kunnen vragen, what are the benefits of 6 months. What are the benefits of 10 months. Ja. Ja. Duidelijk om te maken. Allright. Nice. Ja, ik denk dat ik ook een beetje aan het einde ben. Ik heb nog een aantal, nog een tweetal eigenlijk al vragen. Die ik wel graag zou willen stellen als het oké is. Volwassenen hebben heel vaak een mening over. Dus daar had ik al een en dan kort aangestupt. Over wat AI doet met jongeren. Dus bijvoorbeeld, ze worden er lui van. Of het zorgt ervoor dat ze zich dus niet goed ontwikkelen in bepaalde kennisvaardigheden. Of in bepaalde, überhaupt bepaalde vaardigheden. Misschien ook wel terecht te zorgen hoor. Maar vaak ook wel heel negatief. Misschien heel interessant om het een keer om te draaien. Hoe denk jij dat AI oudere generaties vormt en beïnvloedt? Weer een goede vraag. Even nadenken. Cool. Dit is echt een on-the-spot verhaal wat nu komt. Ergens ook wel hetzelfde denk ik. Het viel me op met social media. Volgens mij is een ouder net zo verslaafd als een jonger. Er is niet eens speciaal heel veel verschil. Misschien kunnen ouderen er net zo onzeker van worden. En net zo gepolariseerd. Dus wat voor invloed heeft het ouderen? Uberhaupt, wat gaat AI voor invloed hebben? Ja. Ik zou meaning crisis. Niet per se over twee jaar, maar over twintig jaar. Waar hou jij waarde uit? Hou je dat uit je werk? Weet je wat het misschien invloed kan hebben op ouderen? Dat je nog vervreemder haakt van de wereld. Een soort van de boodmisser. Als je hiervan denkt, dit is weer een hype. En het een beetje laat gaan. En over tien jaar heb je echt applicaties die echt met je meedenken. En dat is dan een soort van psycholoog. Zou ik me kunnen voorstellen. Die bijna elke dag twintig minuten tegen gaat praten. Die begrijp je, die geeft je wat vragen terug. En dan ga je wel echt in een andere wereld leven. En als je dat helemaal mist. Dan kan ik me voorstellen dat je een beetje vervreemd haakt. Moeten we daar als jonge generatie aandacht aan geven? Of in de zin van, dat is een positieve vraag. Is het misschien wel de verantwoordelijkheid van ons als jonge generatie. Die veel sneller leert en veel sneller meegaat op de boot van nieuwe ontwikkelingen. Om misschien wel oudere mensen mee te nemen. Dat het onderwijs misschien ook wel omdraait. In de zin van, er zijn nieuwe ontwikkelingen. En wij kunnen makkelijk daarin mee. Want ons brein is nog jong en we zijn flexibel. En we kunnen makkelijk nieuwe dingen absorberen. Misschien is het wel ons om die oudere generatie daarin mee te nemen. En op te leiden. Zodat ze daarin niet de boot missen. Ja, dat vind ik wel mooi. Laat het een keer zien aan je opa. Of dan in de zin van, laat het een keer zien aan je vader. Ja. Nice. Dat vind ik wel mooi. Dan heb ik nog een laatste vraag. Als een jong iemand, het hoeft niet eens per se een jong iemand te zijn. Maar het kan ook een oud iemand zijn. Als diegene geïnteresseerd is in AI. Waar te beginnen? Oké, er is heel veel op het internet. Zeker filmen op in de computer science wereld. Er zijn zulke goede, gratis websites en YouTube kanalen. Echt hoog academische kwaliteit aan kennis. Gewoon gratis. Vind ik ook wel mooi aan deze wereld. Open source, ik weet niet of je daarover hebt gehoord. Ja, ik zie. Ja, het daait best wel op dat principe. Ja. Vind ik ook een mooi principe. Dat het AI die kant op gaat. Dat het van niemand is, van iedereen. Maar, waar te beginnen? Even kijken, ik wil ook wel even met wat concreets komen. Waar haal ik mijn info vandaan? YouTube, zou je zeggen, vind ik een paar kanalen. Heb je tips voor kanalen? Of kunnen we dat op je blog vinden misschien? Je kan met mijn blog beginnen. Of met mijn websiteje. Wat een goede vraag. Misschien zou ik daar wel een blogje over schrijven. Dat zou ik wel leuk vinden. Dat laat ik je dan nog weten. Voor jongeren wil je meer weten. Het gaat dan heel simpel zijn met 10 linkjes. En dan kun je zelf kijken of je dat iets vindt. Ja, goeie. Want het is bijna dat ik het moeilijk vind omdat er zoveel is. Ik lees zelf ook veel blogposts van anderen. Maar dan moet je echt geïnteresseerd zijn. Ja, dat is ook al de vraag. We hebben het nu inderdaad over de mensen die daar echt geïnteresseerd zijn. Of ja, dat je aan het begin zegt dat je denkt van... Ik ben potentieel echt geïnteresseerd. Soms heb je ook wel eens iets van dat je ergens naar kijkt dat je denkt van... Dit zou best wel een groot interessegebied van mij kunnen zijn. Maar soms kan het dan zoveel zijn in het begin... dat je dan al van tevoren gedemotiveerd bent om er überhaupt aan te beginnen. En ik ben ook benieuwd naar misschien de kleine stappen om daarin terecht te komen... en dan te kijken of je dan ook echt daarin door wil gaan. Oké, ja, wacht. Ik heb al ideeën. Als je vindt je een beetje het filosofische vet... blogpost en podcast. En dan heb ik al een paar goeie die ik kan delen. Blogposts zijn dan gewoon van mensen die in die wereld zitten. Er is eentje van Ethan Mollick. Die vind ik heel vet. Hij heeft iets van bedrijfskunde. Professor ondernemer of zo. Dus vanuit zijn kijk, een blik op wat AI doet... en hoe dat dingen transformeert. Ik volg een paar. En dat doet heel veel in de filosofiehoek. Vind je echt... Wil je meer ontslag? Wil je coderen? Dan zijn er heel veel... Dan zou ik bij YouTube beginnen. En dan zijn er veel... Veel mensen hebben kleine tutorials gemaakt. En dan heb je een stukje code online... dat je eigenlijk gewoon overheen kan kijken... en dan kijk je wat er gebeurt.\\nDie twee dingen. Maar ik vind het leuk, ik ga wel een kort lijstje maken. Dan laat ik het weten. Ja, laat maar weten. Dan kunnen we het ook delen. Als ik deze post online ga gooien, dan kan ik ook een linkje zetten naar jouw blogpost. Dan kunnen ze daar die tips op vinden. Ja, dan gaat het gewoon een simpel lijstje worden. Nice. Allright. Ja, dat is wel, ik denk, een mooi einde. Wil je nog iets kwijt, heb je het gevoel dat we nog ergens niet over hebben gehad, waar je misschien wel iets heel graag over kwijt wil? We hebben al veel besproken. Educatie, een stukje politiek, een stukje geopolitiek. Zo belangrijk, ik denk, heel interessant inderdaad, de jongeren, ouderen. Wat voor invloed heeft op jongeren? En dan heb je natuurlijk snel over educatie ook. Wat voor invloed heeft op ouderen? Hoe is die wisselwerking? Dat is wel mooi. Ja, een stukje verandering, dat wil ik dan nog als laatste meegeven. En dit zijn zulke grote vragen, waar, als mens, hoe snel willen wij veranderen? Want het gaat alleen nog maar sneller. En dat kun je je nu niet voorstellen, maar dit bestaat pas 15 jaar, telefoons. En nu loopt, als je door de stad loopt, een derde van de mensen loopt naar een scherm te kijken. Ik zie dat die verandering niet langzamer gaat. Over 15 jaar is er weer net zo'n verandering. Daar denk ik soms van, let's pause. Dat is dan een vraag voor mensen, hoe snel wil je veranderen? Doe je dat persoonlijk ook? Want dan hebben we het over vertragen of let's pause op een globale schaal. Ik vind dat een heel mooi idee, maar ook heel ambitieus, denk ik. En ik denk dat het ook heel frustrerend kan werken als je dat wilt, maar niet ziet gebeuren. Maar doe je het voor jezelf persoonlijk, dat vertragen en die pauses inlassen? Of misschien af en toe zeggen van, die verandering is gaande, maar daar ga ik mezelf even niet aan toegeven. Want daar begint het wel, als ik dat al niet doe, dan kan ik het moeilijk van de wereld veranderen. Nee, dat weet ik niet. Aan de andere kant, ik hou wel van verandering in zich. Goeie vraag, daar ga ik over nadenken. Valt wel mee, denk ik. Ik heb het ook met mijn telefoon, die ben ik wel bewust qua vermaak aan het vermijden. Ik probeer hem wel echt vaak te vervelen, dus dat wel. Er zijn natuurlijk al een hoop momenten in mijn leven. Eind master, wat ga ik doen voor werk? Ik heb een leuke vriendin, nu ga ik samenwonen. Die gaat ook superveel veranderen voor mij de komende twee jaar. Dus dat vind ik op een nieuw moment alleen maar leuk. Ja, maar dat zijn ook wel de veranderingen die je altijd al, ik weet het zelfs in een relatie wat je zegt. Dat kan ook al heel snel voelen, maar dat zijn ook wel hele natuurlijke veranderingen. Omdat het al heel lang in ons als mens zit, toch? Relaties. Maar ik zie wel die technologische veranderingen, dat kan af en toe als aannatuurlijk lijken, voelen. Interessant, food for thought. Ik ben heel benieuwd wanneer je studeert. In december. Spannend. Heb je het al het gevoel dat het een beetje zo gaat, of ben je nog aan het proberen? Ik ben het echt aan het proberen te kaderen, maar het is moeilijk. Ik merk dat de onderzoekswereld ook moeizaam is voor mij, omdat je weinig voor honderd procent moet doen. En ik denk dat een van mijn talenten is, ik ben best goed in de tachtig, twintig denk ik. Best veel, best wel oké doen. Maar de kader is moeilijk. Jawel, het gaat echt wel lukken. Goede begeleiders? Ja, echt heel dankbaar voor hoe het hukken volgens mensen die stiekem best veel tijd en aandacht instoppen. Dus dat is mooi. Aan de andere kant doe ik heel veel werk voor niks. Dus dat is natuurlijk ook wel heel mooi. Dat is het leven van een student natuurlijk. Waar ik een beetje, als ik even mag klagen. Ja, kom maar. Waar ik mee zit is, ik werk op de intersectie tussen filosofie, ethiek en computer science. En ik heb één begeleider filosofie, die heel veel weet van filosofie. En een begeleider computer science, die heel veel weet van computer science. En ik zit eigenlijk in een gebied wat ze allebei net niet helemaal begrijpen. Dus daardoor, het is denk ik makkelijker om een professor die heel veel weet van een bepaald gebied. En dan gewoon in dat gebied gaan werken. En ik zit nu tussen allebei mijn begeleiders, die zijn een beetje van, wat ben je ook weer aan het doen? Ik vind dat wel heel interessant, want dat mis ik vaak ook heel erg in de opleiding. Dat het zo gericht is op een eigen terrein. Terwijl ik heel vaak dan denk van, ik vind die combinaties juist vaak super interessant. Maar dat is een super grote uitdaging, maar hoor je daar wel in door? Of ben je dan nu geneigd om er maar eentje te kiezen? Nee man, ik ben bang dat dat in mijn natuur zit. Die intersectie vind ik interessant. Heb je ze wel eens allebei in één ruimte gezeten? Ja, ja, ja. Ja, ze zitten ook vaak samen. En het is een leuke combinatie, want die ene is ook echt een filosoof. Die vindt dingen mooi en dan begint hij te argumenteren. En dan is hij een kwartier aan het zweven. En die andere is ook echt een computer scientist. Ja maar, waar is het bewijs? Weet je wel, ik heb een formule nodig. Zo werkt kritiek niet. Maar ze kunnen het goed met elkaar vinden. Wat een leuke twee verschillende stemmen in de kamer. Grappig. En je hebt binnenkort avans dat je toch iets in een lezing geeft? Ja, 7 november mag ik in Amsterdam bij een RRC. Is het een bepaalde opleiding? Nee, het is voor de werknemers. Ah, voor de werknemers, oké. En het onderwerp is AI en educatie. Dus die vraag ook van jou. Tip aan de middelbare studeerder. Goeie vraag. Daar ga ik zeker mee over nadenken. Ik zal het ook bij meneer laten weten hoe het gaat. Met een autobank of zo. Als er niks in mijn manier van werken verandert, komt er een blogpost over. Ah, nice. Dan hou ik dat in de gaten. Ja. En heb je wel eens nagedacht om hierover te praten tegen jonge studenten of misschien zelfs middelbare scholieren? Dat zou ik super vet vinden. Misschien niet als in lesgever, maar gewoon dat je een keer een praatje doet voor de klas. Dat zou ik echt heel leuk vinden. Even tijd zoeken. Ik ga dat wel ook onthouden. Want misschien is er wel een keer een, zoals dat jonge jongveertig waar ik het over had. Misschien komt er wel een keer een thema wat meer te maken heeft met AI. Dat zou ik heel graag willen. Dat kan ik me heel goed voorstellen. En dan hou ik jou even in mijn achterhoofd om jou een keer voor een sessie uit te nodigen als expert. Ik heb afgelopen, dank. Ik heb afgelopen kwartaal, het kwartaal voor de zomervakantie, voor het eerst een vak deels gegeven op de uni. Over AI en ethiek. Dat vond ik leuk. Dat je dit lesgeeft. Ja, je praat er echt goed over man. Ik vind het echt, je komt echt inspirerend en je komt goed. Je vertelt het ook op een begrijpelijke manier enzo. Dat is nice. Dank. Nice. Lekker. Zullen we het hiermee houden? Ik denk dat het goed was. Thank you. Ja, dankjewel man. Ga je nu weer terug naar de...\\n\""
      ]
     },
     "execution_count": 4,
     "metadata": {},
     "output_type": "execute_result"
    }
   ],
   "source": [
    "transcript"
   ]
  },
  {
   "cell_type": "markdown",
   "metadata": {},
   "source": [
    "### transcript processing"
   ]
  },
  {
   "cell_type": "code",
   "execution_count": 5,
   "metadata": {},
   "outputs": [
    {
     "name": "stdout",
     "output_type": "stream",
     "text": [
      "Text processing started.\n",
      "Text processing succes!\n"
     ]
    }
   ],
   "source": [
    "print(\"Text processing started.\")\n",
    "text_response = process_transcript(THOUGHT, transcript)\n",
    "print(\"Text processing succes!\")"
   ]
  },
  {
   "cell_type": "code",
   "execution_count": 6,
   "metadata": {},
   "outputs": [
    {
     "name": "stdout",
     "output_type": "stream",
     "text": [
      "<class 'str'>\n"
     ]
    },
    {
     "data": {
      "text/plain": [
       "'{\"title\": \"Een gesprek over AI, onderwijs en ethiek\", \"samenvatting\": \"In dit gesprek wordt AI besproken, evenals de mogelijke impact ervan op jongeren en ouderen. Er wordt onder andere ingegaan op de rol van AI in het onderwijs, de veranderingen die het teweegbrengt in de maatschappij en de ethische aspecten ervan. Bram, de gesprekspartner, vertelt over zijn persoonlijke ervaringen met AI en zijn onderzoek naar ethiek in AI.\", \"onderwerpen\": [\"AI\", \"onderwijs\", \"ethiek\", \"verandering\", \"jongeren\", \"ouderen\", \"expertise\", \"tips\"]}'"
      ]
     },
     "execution_count": 6,
     "metadata": {},
     "output_type": "execute_result"
    }
   ],
   "source": [
    "print(type(text_response[\"choices\"][0][\"message\"][\"content\"]))\n",
    "text_response[\"choices\"][0][\"message\"][\"content\"]"
   ]
  },
  {
   "cell_type": "markdown",
   "metadata": {},
   "source": [
    "### check data Notion"
   ]
  },
  {
   "cell_type": "code",
   "execution_count": 7,
   "metadata": {},
   "outputs": [],
   "source": [
    "content_notion = check_response(text_response)"
   ]
  },
  {
   "cell_type": "code",
   "execution_count": 8,
   "metadata": {},
   "outputs": [
    {
     "data": {
      "text/plain": [
       "{'title': 'Een gesprek over AI, onderwijs en ethiek',\n",
       " 'samenvatting': 'In dit gesprek wordt AI besproken, evenals de mogelijke impact ervan op jongeren en ouderen. Er wordt onder andere ingegaan op de rol van AI in het onderwijs, de veranderingen die het teweegbrengt in de maatschappij en de ethische aspecten ervan. Bram, de gesprekspartner, vertelt over zijn persoonlijke ervaringen met AI en zijn onderzoek naar ethiek in AI.',\n",
       " 'onderwerpen': '- AI\\n- onderwijs\\n- ethiek\\n- verandering\\n- jongeren\\n- ouderen\\n- expertise\\n- tips\\n'}"
      ]
     },
     "execution_count": 8,
     "metadata": {},
     "output_type": "execute_result"
    }
   ],
   "source": [
    "content_notion"
   ]
  },
  {
   "cell_type": "markdown",
   "metadata": {},
   "source": [
    "### upload to Notion"
   ]
  },
  {
   "cell_type": "code",
   "execution_count": 9,
   "metadata": {},
   "outputs": [
    {
     "name": "stdout",
     "output_type": "stream",
     "text": [
      "Processed text uploading succesful!\n"
     ]
    }
   ],
   "source": [
    "url = \"https://api.notion.com/v1/pages/\"\n",
    "\n",
    "headers =   {\n",
    "    \"Authorization\": f\"Bearer {NOTION_API_KEY}\",\n",
    "    \"Notion-Version\": \"2022-06-28\",\n",
    "    \"Content-Type\": \"application/json\"\n",
    "            }\n",
    "\n",
    "data_database = prepare_yield_NOTION(THOUGHT, NOTION_DATABASE_ID, MAX_BLOCK_SIZE,\n",
    "                                     content_notion, transcript)\n",
    "\n",
    "response_get = requests.post(url, headers=headers, json=data_database)\n",
    "print(\"Processed text uploading succesful!\")"
   ]
  },
  {
   "cell_type": "code",
   "execution_count": 10,
   "metadata": {},
   "outputs": [
    {
     "data": {
      "text/plain": [
       "{'object': 'page',\n",
       " 'id': 'f2869a73-5a32-4d2f-bc07-e9baf71e85ec',\n",
       " 'created_time': '2023-09-19T06:02:00.000Z',\n",
       " 'last_edited_time': '2023-09-19T06:02:00.000Z',\n",
       " 'created_by': {'object': 'user',\n",
       "  'id': 'dc664599-409b-4fbc-b638-fa34c238bb19'},\n",
       " 'last_edited_by': {'object': 'user',\n",
       "  'id': 'dc664599-409b-4fbc-b638-fa34c238bb19'},\n",
       " 'cover': None,\n",
       " 'icon': {'type': 'emoji', 'emoji': '🎙️'},\n",
       " 'parent': {'type': 'database_id',\n",
       "  'database_id': 'e5568bc0-5015-4ec7-bd8c-ba5050353de6'},\n",
       " 'archived': False,\n",
       " 'properties': {'Created time': {'id': 'BAiK',\n",
       "   'type': 'created_time',\n",
       "   'created_time': '2023-09-19T06:02:00.000Z'},\n",
       "  'Thought': {'id': 'FIsG',\n",
       "   'type': 'select',\n",
       "   'select': {'id': 'd2e94385-4795-46bb-979a-300e8a1389c4',\n",
       "    'name': 'nederlands',\n",
       "    'color': 'orange'}},\n",
       "  'Name': {'id': 'title',\n",
       "   'type': 'title',\n",
       "   'title': [{'type': 'text',\n",
       "     'text': {'content': 'Een gesprek over AI, onderwijs en ethiek',\n",
       "      'link': None},\n",
       "     'annotations': {'bold': False,\n",
       "      'italic': False,\n",
       "      'strikethrough': False,\n",
       "      'underline': False,\n",
       "      'code': False,\n",
       "      'color': 'default'},\n",
       "     'plain_text': 'Een gesprek over AI, onderwijs en ethiek',\n",
       "     'href': None}]}},\n",
       " 'url': 'https://www.notion.so/Een-gesprek-over-AI-onderwijs-en-ethiek-f2869a735a324d2fbc07e9baf71e85ec',\n",
       " 'public_url': None}"
      ]
     },
     "execution_count": 10,
     "metadata": {},
     "output_type": "execute_result"
    }
   ],
   "source": [
    "response_get.json()"
   ]
  },
  {
   "cell_type": "markdown",
   "metadata": {},
   "source": [
    "---"
   ]
  },
  {
   "cell_type": "markdown",
   "metadata": {},
   "source": [
    "# Testing"
   ]
  },
  {
   "cell_type": "code",
   "execution_count": 13,
   "metadata": {},
   "outputs": [],
   "source": [
    "def is_jsonable(x):\n",
    "    try:\n",
    "        json.dumps(x)\n",
    "        return True\n",
    "    except (TypeError, OverflowError):\n",
    "        return False"
   ]
  },
  {
   "cell_type": "code",
   "execution_count": 40,
   "metadata": {},
   "outputs": [
    {
     "name": "stdout",
     "output_type": "stream",
     "text": [
      "True\n",
      "True\n",
      "True\n",
      "True\n"
     ]
    }
   ],
   "source": [
    "for key in data_database:\n",
    "    print(is_jsonable(data_database[key]))"
   ]
  }
 ],
 "metadata": {
  "kernelspec": {
   "display_name": ".venv",
   "language": "python",
   "name": "python3"
  },
  "language_info": {
   "codemirror_mode": {
    "name": "ipython",
    "version": 3
   },
   "file_extension": ".py",
   "mimetype": "text/x-python",
   "name": "python",
   "nbconvert_exporter": "python",
   "pygments_lexer": "ipython3",
   "version": "3.10.0"
  },
  "orig_nbformat": 4
 },
 "nbformat": 4,
 "nbformat_minor": 2
}
